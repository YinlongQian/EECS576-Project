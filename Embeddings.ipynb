{
 "cells": [
  {
   "cell_type": "code",
   "execution_count": null,
   "metadata": {},
   "outputs": [],
   "source": [
    "import numpy as np\n",
    "\n",
    "from ge.classify import read_node_label, Classifier\n",
    "from ge import LINE\n",
    "from sklearn.linear_model import LogisticRegression\n",
    "\n",
    "import matplotlib.pyplot as plt\n",
    "import networkx as nx\n",
    "from sklearn.manifold import TSNE\n",
    "import scipy\n",
    "import pickle"
   ]
  },
  {
   "cell_type": "code",
   "execution_count": null,
   "metadata": {},
   "outputs": [],
   "source": [
    "filenames = [\"../data/RM_sparse/Monthly/vc-month-0.npz\",\n",
    "            \"../data/RM_sparse/Monthly/vc-month-1.npz\",\n",
    "            \"../data/RM_sparse/Monthly/vc-month-2.npz\",\n",
    "            \"../data/RM_sparse/Monthly/vc-month-3.npz\",\n",
    "            \"../data/RM_sparse/Monthly/vc-month-4.npz\",\n",
    "            \"../data/RM_sparse/Monthly/vc-month-5.npz\",\n",
    "            \"../data/RM_sparse/Monthly/vc-month-6.npz\",\n",
    "            \"../data/RM_sparse/Monthly/vc-month-7.npz\",\n",
    "            \"../data/RM_sparse/Monthly/vc-month-8.npz\",\n",
    "            \"../data/RM_sparse/Monthly/vc-month-9.npz\",\n",
    "            \"../data/RM_sparse/Monthly/vc-month-10.npz\"]\n",
    "output_filenames = [\"../data/RM_sparse/Embeddings/em-vc-month-0.npy\",\n",
    "                    \"../data/RM_sparse/Embeddings/em-vc-month-1.npy\",\n",
    "                    \"../data/RM_sparse/Embeddings/em-vc-month-2.npy\",\n",
    "                    \"../data/RM_sparse/Embeddings/em-vc-month-3.npy\",\n",
    "                    \"../data/RM_sparse/Embeddings/em-vc-month-4.npy\",\n",
    "                    \"../data/RM_sparse/Embeddings/em-vc-month-5.npy\",\n",
    "                    \"../data/RM_sparse/Embeddings/em-vc-month-6.npy\",\n",
    "                    \"../data/RM_sparse/Embeddings/em-vc-month-7.npy\",\n",
    "                    \"../data/RM_sparse/Embeddings/em-vc-month-8.npy\",\n",
    "                    \"../data/RM_sparse/Embeddings/em-vc-month-9.npy\",\n",
    "                    \"../data/RM_sparse/Embeddings/em-vc-month-10.npy\"]"
   ]
  },
  {
   "cell_type": "code",
   "execution_count": null,
   "metadata": {},
   "outputs": [],
   "source": [
    "for index in range(11):\n",
    "    sparse_mat = scipy.sparse.load_npz(filenames[index])\n",
    "    G = nx.from_scipy_sparse_matrix(sparse_mat)\n",
    "    \n",
    "    model = LINE(G, embedding_size=128, order='all')\n",
    "    model.train(batch_size=1024, epochs=50, verbose=2)\n",
    "    embeddings = model.get_embeddings()\n",
    "        \n",
    "    embeddings_np_arr = np.array(list(embeddings.values()))\n",
    "    np.save(output_filenames[index], embeddings_np_arr)"
   ]
  },
  {
   "cell_type": "code",
   "execution_count": null,
   "metadata": {},
   "outputs": [],
   "source": [
    "filenames = [\"../data/RM_sparse/Monthly/sm-month-0.npz\",\n",
    "            \"../data/RM_sparse/Monthly/sm-month-1.npz\",\n",
    "            \"../data/RM_sparse/Monthly/sm-month-2.npz\",\n",
    "            \"../data/RM_sparse/Monthly/sm-month-3.npz\",\n",
    "            \"../data/RM_sparse/Monthly/sm-month-4.npz\",\n",
    "            \"../data/RM_sparse/Monthly/sm-month-5.npz\",\n",
    "            \"../data/RM_sparse/Monthly/sm-month-6.npz\",\n",
    "            \"../data/RM_sparse/Monthly/sm-month-7.npz\",\n",
    "            \"../data/RM_sparse/Monthly/sm-month-8.npz\",\n",
    "            \"../data/RM_sparse/Monthly/sm-month-9.npz\",\n",
    "            \"../data/RM_sparse/Monthly/sm-month-10.npz\"]\n",
    "output_filenames = [\"../data/RM_sparse/Embeddings/em-sm-month-0.npy\",\n",
    "                    \"../data/RM_sparse/Embeddings/em-sm-month-1.npy\",\n",
    "                    \"../data/RM_sparse/Embeddings/em-sm-month-2.npy\",\n",
    "                    \"../data/RM_sparse/Embeddings/em-sm-month-3.npy\",\n",
    "                    \"../data/RM_sparse/Embeddings/em-sm-month-4.npy\",\n",
    "                    \"../data/RM_sparse/Embeddings/em-sm-month-5.npy\",\n",
    "                    \"../data/RM_sparse/Embeddings/em-sm-month-6.npy\",\n",
    "                    \"../data/RM_sparse/Embeddings/em-sm-month-7.npy\",\n",
    "                    \"../data/RM_sparse/Embeddings/em-sm-month-8.npy\",\n",
    "                    \"../data/RM_sparse/Embeddings/em-sm-month-9.npy\",\n",
    "                    \"../data/RM_sparse/Embeddings/em-sm-month-10.npy\"]"
   ]
  },
  {
   "cell_type": "code",
   "execution_count": null,
   "metadata": {},
   "outputs": [],
   "source": [
    "for index in range(11):\n",
    "    sparse_mat = scipy.sparse.load_npz(filenames[index])\n",
    "    G = nx.from_scipy_sparse_matrix(sparse_mat)\n",
    "    \n",
    "    model = LINE(G, embedding_size=128, order='all')\n",
    "    model.train(batch_size=1024, epochs=50, verbose=2)\n",
    "    embeddings = model.get_embeddings()\n",
    "        \n",
    "    embeddings_np_arr = np.array(list(embeddings.values()))\n",
    "    np.save(output_filenames[index], embeddings_np_arr)"
   ]
  },
  {
   "cell_type": "code",
   "execution_count": null,
   "metadata": {},
   "outputs": [],
   "source": [
    "sm_week_prefix = '../data/RM_sparse/Weekly/sm-week-'\n",
    "sm_week_suffix = '.npz'\n",
    "\n",
    "output_sm_week_prefix = '../data/RM_sparse/Embeddings/em-sm-week-'\n",
    "output_sm_week_suffix = '.npy'\n",
    "\n",
    "str_num_list = [str(i) for i in range(51)]"
   ]
  },
  {
   "cell_type": "code",
   "execution_count": null,
   "metadata": {},
   "outputs": [],
   "source": [
    "for index in range(51):\n",
    "    curr_filename = sm_week_prefix + str_num_list[index] + sm_week_suffix\n",
    "    \n",
    "    sparse_mat = scipy.sparse.load_npz(curr_filename)\n",
    "    G = nx.from_scipy_sparse_matrix(sparse_mat)\n",
    "    \n",
    "    model = LINE(G, embedding_size=128, order='all')\n",
    "    model.train(batch_size=1024, epochs=50, verbose=2)\n",
    "    embeddings = model.get_embeddings()\n",
    "        \n",
    "    embeddings_np_arr = np.array(list(embeddings.values()))\n",
    "    \n",
    "    curr_output_filename = output_sm_week_prefix + str_num_list[index] + output_sm_week_suffix\n",
    "    np.save(curr_output_filename, embeddings_np_arr)"
   ]
  },
  {
   "cell_type": "code",
   "execution_count": null,
   "metadata": {},
   "outputs": [],
   "source": [
    "vc_week_prefix = '../data/RM_sparse/Weekly/vc-week-'\n",
    "vc_week_suffix = '.npz'\n",
    "\n",
    "output_vc_week_prefix = '../data/RM_sparse/Embeddings/em-vc-week-'\n",
    "output_vc_week_suffix = '.npy'\n",
    "\n",
    "str_num_list = [str(i) for i in range(51)]"
   ]
  },
  {
   "cell_type": "code",
   "execution_count": null,
   "metadata": {},
   "outputs": [],
   "source": [
    "for index in range(51):\n",
    "    curr_filename = vc_week_prefix + str_num_list[index] + vc_week_suffix\n",
    "    \n",
    "    sparse_mat = scipy.sparse.load_npz(curr_filename)\n",
    "    G = nx.from_scipy_sparse_matrix(sparse_mat)\n",
    "    \n",
    "    model = LINE(G, embedding_size=128, order='all')\n",
    "    model.train(batch_size=1024, epochs=50, verbose=2)\n",
    "    embeddings = model.get_embeddings()\n",
    "        \n",
    "    embeddings_np_arr = np.array(list(embeddings.values()))\n",
    "    \n",
    "    curr_output_filename = output_vc_week_prefix + str_num_list[index] + output_vc_week_suffix\n",
    "    np.save(curr_output_filename, embeddings_np_arr)"
   ]
  },
  {
   "cell_type": "markdown",
   "metadata": {},
   "source": [
    "## LINE Embeddings: MSG - Month"
   ]
  },
  {
   "cell_type": "code",
   "execution_count": null,
   "metadata": {},
   "outputs": [],
   "source": [
    "with open(r\"../data/CollegeMsg/Graphs/msg_1_month_undir.pkl\", \"rb\") as input_file:\n",
    "    graphs = pickle.load(input_file)"
   ]
  },
  {
   "cell_type": "code",
   "execution_count": null,
   "metadata": {},
   "outputs": [],
   "source": [
    "len(graphs)"
   ]
  },
  {
   "cell_type": "code",
   "execution_count": null,
   "metadata": {},
   "outputs": [],
   "source": [
    "output_msg_month_prefix = '../data/CollegeMsg/Embeddings/em-msg-month-'\n",
    "output_msg_month_suffix = '.npy'\n",
    "str_num_list = [str(i) for i in range(7)]"
   ]
  },
  {
   "cell_type": "code",
   "execution_count": null,
   "metadata": {},
   "outputs": [],
   "source": [
    "for index in range(7):\n",
    "    G = graphs[index]\n",
    "    \n",
    "    model = LINE(G, embedding_size=128, order='all')\n",
    "    model.train(batch_size=1024, epochs=50, verbose=2)\n",
    "    embeddings = model.get_embeddings()\n",
    "        \n",
    "    embeddings_np_arr = np.array(list(embeddings.values()))\n",
    "    \n",
    "    curr_output_filename = output_msg_month_prefix + str_num_list[index] + output_msg_month_suffix\n",
    "    np.save(curr_output_filename, embeddings_np_arr)"
   ]
  },
  {
   "cell_type": "code",
   "execution_count": null,
   "metadata": {},
   "outputs": [],
   "source": [
    "with open(r\"../data/CollegeMsg/Graphs/msg_1_week_undir.pkl\", \"rb\") as input_file:\n",
    "    graphs = pickle.load(input_file)"
   ]
  },
  {
   "cell_type": "code",
   "execution_count": null,
   "metadata": {},
   "outputs": [],
   "source": [
    "len(graphs)"
   ]
  },
  {
   "cell_type": "code",
   "execution_count": null,
   "metadata": {},
   "outputs": [],
   "source": [
    "output_msg_week_prefix = '../data/CollegeMsg/Embeddings/em-msg-week-'\n",
    "output_msg_week_suffix = '.npy'\n",
    "str_num_list = [str(i) for i in range(28)]"
   ]
  },
  {
   "cell_type": "code",
   "execution_count": null,
   "metadata": {},
   "outputs": [],
   "source": [
    "for index in range(28):\n",
    "    G = graphs[index]\n",
    "    \n",
    "    model = LINE(G, embedding_size=128, order='all')\n",
    "    model.train(batch_size=1024, epochs=50, verbose=2)\n",
    "    embeddings = model.get_embeddings()\n",
    "        \n",
    "    embeddings_np_arr = np.array(list(embeddings.values()))\n",
    "    \n",
    "    curr_output_filename = output_msg_week_prefix + str_num_list[index] + output_msg_week_suffix\n",
    "    np.save(curr_output_filename, embeddings_np_arr)"
   ]
  },
  {
   "cell_type": "code",
   "execution_count": null,
   "metadata": {},
   "outputs": [],
   "source": [
    "len(embeddings[0])"
   ]
  },
  {
   "cell_type": "code",
   "execution_count": null,
   "metadata": {},
   "outputs": [],
   "source": []
  }
 ],
 "metadata": {
  "kernelspec": {
   "display_name": "Python 3",
   "language": "python",
   "name": "python3"
  },
  "language_info": {
   "codemirror_mode": {
    "name": "ipython",
    "version": 3
   },
   "file_extension": ".py",
   "mimetype": "text/x-python",
   "name": "python",
   "nbconvert_exporter": "python",
   "pygments_lexer": "ipython3",
   "version": "3.7.1"
  }
 },
 "nbformat": 4,
 "nbformat_minor": 2
}
