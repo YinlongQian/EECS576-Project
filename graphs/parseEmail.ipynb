{
 "cells": [
  {
   "cell_type": "markdown",
   "metadata": {
    "toc": true
   },
   "source": [
    "<h1>Table of Contents<span class=\"tocSkip\"></span></h1>\n",
    "<div class=\"toc\"><ul class=\"toc-item\"><li><span><a href=\"#Monthly-Snapshots\" data-toc-modified-id=\"Monthly-Snapshots-1\"><span class=\"toc-item-num\">1&nbsp;&nbsp;</span>Monthly Snapshots</a></span></li><li><span><a href=\"#Weekly-Snapshots\" data-toc-modified-id=\"Weekly-Snapshots-2\"><span class=\"toc-item-num\">2&nbsp;&nbsp;</span>Weekly Snapshots</a></span></li><li><span><a href=\"#Equal-(Weekly)-Snapshots\" data-toc-modified-id=\"Equal-(Weekly)-Snapshots-3\"><span class=\"toc-item-num\">3&nbsp;&nbsp;</span>Equal (Weekly) Snapshots</a></span></li><li><span><a href=\"#Equal-(Monthly)-Snapshots\" data-toc-modified-id=\"Equal-(Monthly)-Snapshots-4\"><span class=\"toc-item-num\">4&nbsp;&nbsp;</span>Equal (Monthly) Snapshots</a></span></li><li><span><a href=\"#OLD-WORK\" data-toc-modified-id=\"OLD-WORK-5\"><span class=\"toc-item-num\">5&nbsp;&nbsp;</span>OLD WORK</a></span></li><li><span><a href=\"#1-month-Snapshots\" data-toc-modified-id=\"1-month-Snapshots-6\"><span class=\"toc-item-num\">6&nbsp;&nbsp;</span>1-month Snapshots</a></span></li><li><span><a href=\"#Equal-edges-Snapshots\" data-toc-modified-id=\"Equal-edges-Snapshots-7\"><span class=\"toc-item-num\">7&nbsp;&nbsp;</span>Equal-edges Snapshots</a></span></li><li><span><a href=\"#Equal-edges-Aggregates\" data-toc-modified-id=\"Equal-edges-Aggregates-8\"><span class=\"toc-item-num\">8&nbsp;&nbsp;</span>Equal-edges Aggregates</a></span></li></ul></div>"
   ]
  },
  {
   "cell_type": "code",
   "execution_count": 22,
   "metadata": {},
   "outputs": [],
   "source": [
    "import pandas as pd\n",
    "import numpy as np\n",
    "import matplotlib.pyplot as plt\n",
    "\n",
    "import networkx as nx\n",
    "\n",
    "import pickle\n",
    "import copy\n",
    "import seaborn as sns\n",
    "import datetime"
   ]
  },
  {
   "cell_type": "code",
   "execution_count": 23,
   "metadata": {},
   "outputs": [],
   "source": [
    "sns.set_style('darkgrid')"
   ]
  },
  {
   "cell_type": "code",
   "execution_count": 2,
   "metadata": {},
   "outputs": [],
   "source": [
    "df = pd.read_csv('email-Eu-core-temporal.txt', sep=\" \", names=['SRC','TGT','UNIXTS'])"
   ]
  },
  {
   "cell_type": "code",
   "execution_count": 3,
   "metadata": {},
   "outputs": [
    {
     "data": {
      "text/html": [
       "<div>\n",
       "<style scoped>\n",
       "    .dataframe tbody tr th:only-of-type {\n",
       "        vertical-align: middle;\n",
       "    }\n",
       "\n",
       "    .dataframe tbody tr th {\n",
       "        vertical-align: top;\n",
       "    }\n",
       "\n",
       "    .dataframe thead th {\n",
       "        text-align: right;\n",
       "    }\n",
       "</style>\n",
       "<table border=\"1\" class=\"dataframe\">\n",
       "  <thead>\n",
       "    <tr style=\"text-align: right;\">\n",
       "      <th></th>\n",
       "      <th>SRC</th>\n",
       "      <th>TGT</th>\n",
       "      <th>UNIXTS</th>\n",
       "    </tr>\n",
       "  </thead>\n",
       "  <tbody>\n",
       "    <tr>\n",
       "      <th>0</th>\n",
       "      <td>582</td>\n",
       "      <td>364</td>\n",
       "      <td>0</td>\n",
       "    </tr>\n",
       "    <tr>\n",
       "      <th>1</th>\n",
       "      <td>168</td>\n",
       "      <td>472</td>\n",
       "      <td>2797</td>\n",
       "    </tr>\n",
       "    <tr>\n",
       "      <th>2</th>\n",
       "      <td>168</td>\n",
       "      <td>912</td>\n",
       "      <td>3304</td>\n",
       "    </tr>\n",
       "    <tr>\n",
       "      <th>3</th>\n",
       "      <td>2</td>\n",
       "      <td>790</td>\n",
       "      <td>4523</td>\n",
       "    </tr>\n",
       "    <tr>\n",
       "      <th>4</th>\n",
       "      <td>2</td>\n",
       "      <td>322</td>\n",
       "      <td>7926</td>\n",
       "    </tr>\n",
       "  </tbody>\n",
       "</table>\n",
       "</div>"
      ],
      "text/plain": [
       "   SRC  TGT  UNIXTS\n",
       "0  582  364       0\n",
       "1  168  472    2797\n",
       "2  168  912    3304\n",
       "3    2  790    4523\n",
       "4    2  322    7926"
      ]
     },
     "execution_count": 3,
     "metadata": {},
     "output_type": "execute_result"
    }
   ],
   "source": [
    "df.head(5)"
   ]
  },
  {
   "cell_type": "code",
   "execution_count": 5,
   "metadata": {},
   "outputs": [
    {
     "data": {
      "text/html": [
       "<div>\n",
       "<style scoped>\n",
       "    .dataframe tbody tr th:only-of-type {\n",
       "        vertical-align: middle;\n",
       "    }\n",
       "\n",
       "    .dataframe tbody tr th {\n",
       "        vertical-align: top;\n",
       "    }\n",
       "\n",
       "    .dataframe thead th {\n",
       "        text-align: right;\n",
       "    }\n",
       "</style>\n",
       "<table border=\"1\" class=\"dataframe\">\n",
       "  <thead>\n",
       "    <tr style=\"text-align: right;\">\n",
       "      <th></th>\n",
       "      <th>SRC</th>\n",
       "      <th>TGT</th>\n",
       "      <th>UNIXTS</th>\n",
       "    </tr>\n",
       "  </thead>\n",
       "  <tbody>\n",
       "    <tr>\n",
       "      <th>332329</th>\n",
       "      <td>324</td>\n",
       "      <td>367</td>\n",
       "      <td>45401817</td>\n",
       "    </tr>\n",
       "    <tr>\n",
       "      <th>332330</th>\n",
       "      <td>790</td>\n",
       "      <td>126</td>\n",
       "      <td>45402441</td>\n",
       "    </tr>\n",
       "    <tr>\n",
       "      <th>332331</th>\n",
       "      <td>790</td>\n",
       "      <td>126</td>\n",
       "      <td>45403709</td>\n",
       "    </tr>\n",
       "    <tr>\n",
       "      <th>332332</th>\n",
       "      <td>782</td>\n",
       "      <td>126</td>\n",
       "      <td>45404903</td>\n",
       "    </tr>\n",
       "    <tr>\n",
       "      <th>332333</th>\n",
       "      <td>685</td>\n",
       "      <td>643</td>\n",
       "      <td>45405138</td>\n",
       "    </tr>\n",
       "  </tbody>\n",
       "</table>\n",
       "</div>"
      ],
      "text/plain": [
       "        SRC  TGT    UNIXTS\n",
       "332329  324  367  45401817\n",
       "332330  790  126  45402441\n",
       "332331  790  126  45403709\n",
       "332332  782  126  45404903\n",
       "332333  685  643  45405138"
      ]
     },
     "execution_count": 5,
     "metadata": {},
     "output_type": "execute_result"
    }
   ],
   "source": [
    "df.tail(5)"
   ]
  },
  {
   "cell_type": "code",
   "execution_count": 4,
   "metadata": {},
   "outputs": [
    {
     "name": "stdout",
     "output_type": "stream",
     "text": [
      "Uniq Union User:  986\n"
     ]
    }
   ],
   "source": [
    "uniq_SRC = df.SRC.unique()\n",
    "uniq_TGT = df.TGT.unique()\n",
    "uniq_union_user = list(set(uniq_SRC) | set(uniq_TGT))\n",
    "print(\"Uniq Union User: \", len(uniq_union_user))"
   ]
  },
  {
   "cell_type": "markdown",
   "metadata": {},
   "source": [
    "## Monthly Snapshots"
   ]
  },
  {
   "cell_type": "code",
   "execution_count": 8,
   "metadata": {},
   "outputs": [],
   "source": [
    "df['DAY'] = df['UNIXTS'] / 86400\n",
    "df['DAY'] = df['DAY'].round(0).astype(int) - 1"
   ]
  },
  {
   "cell_type": "code",
   "execution_count": 64,
   "metadata": {},
   "outputs": [
    {
     "ename": "ValueError",
     "evalue": "operands could not be broadcast together with shapes (824,) (965,) ",
     "output_type": "error",
     "traceback": [
      "\u001b[0;31m---------------------------------------------------------------------------\u001b[0m",
      "\u001b[0;31mValueError\u001b[0m                                Traceback (most recent call last)",
      "\u001b[0;32m<ipython-input-64-3080f26e10be>\u001b[0m in \u001b[0;36m<module>\u001b[0;34m\u001b[0m\n\u001b[0;32m----> 1\u001b[0;31m \u001b[0mdf\u001b[0m\u001b[0;34m.\u001b[0m\u001b[0mSRC\u001b[0m\u001b[0;34m.\u001b[0m\u001b[0munique\u001b[0m\u001b[0;34m(\u001b[0m\u001b[0;34m)\u001b[0m \u001b[0;34m|\u001b[0m \u001b[0mdf\u001b[0m\u001b[0;34m.\u001b[0m\u001b[0mTGT\u001b[0m\u001b[0;34m.\u001b[0m\u001b[0munique\u001b[0m\u001b[0;34m(\u001b[0m\u001b[0;34m)\u001b[0m\u001b[0;34m\u001b[0m\u001b[0;34m\u001b[0m\u001b[0m\n\u001b[0m",
      "\u001b[0;31mValueError\u001b[0m: operands could not be broadcast together with shapes (824,) (965,) "
     ]
    }
   ],
   "source": [
    "df.SRC.unique() | df.TGT.unique()"
   ]
  },
  {
   "cell_type": "code",
   "execution_count": 67,
   "metadata": {},
   "outputs": [
    {
     "data": {
      "text/plain": [
       "986"
      ]
     },
     "execution_count": 67,
     "metadata": {},
     "output_type": "execute_result"
    }
   ],
   "source": [
    "name = list(set(df['SRC'].unique()) | set(df['TGT'].unique()))\n",
    "len(name)"
   ]
  },
  {
   "cell_type": "code",
   "execution_count": 69,
   "metadata": {},
   "outputs": [
    {
     "name": "stdout",
     "output_type": "stream",
     "text": [
      "Finished mapping src\n"
     ]
    }
   ],
   "source": [
    "link_to_int = dict(zip(name,range(len(name))))\n",
    "df['SRC'] = df['SRC'].map(link_to_int)\n",
    "print(\"Finished mapping src\")\n",
    "df['TGT'] = df['TGT'].map(link_to_int);"
   ]
  },
  {
   "cell_type": "code",
   "execution_count": 70,
   "metadata": {},
   "outputs": [
    {
     "name": "stdout",
     "output_type": "stream",
     "text": [
      "No edges in: 1971-7\n",
      "No edges in: 1971-8\n",
      "No edges in: 1971-9\n",
      "No edges in: 1971-10\n",
      "No edges in: 1971-11\n",
      "No edges in: 1971-12\n",
      "No edges in: 1972-1\n",
      "No edges in: 1972-2\n",
      "No edges in: 1972-4\n",
      "No edges in: 1972-5\n",
      "No edges in: 1972-6\n",
      "No edges in: 1972-7\n",
      "No edges in: 1972-8\n",
      "No edges in: 1972-9\n",
      "No edges in: 1972-10\n",
      "No edges in: 1972-11\n",
      "No edges in: 1972-12\n"
     ]
    }
   ],
   "source": [
    "year_month = df.groupby([df[\"date\"].dt.year, df[\"date\"].dt.month])\n",
    "G_list = []\n",
    "labels = []\n",
    "for year in [1970,1971,1972]:\n",
    "    for month in range(1,13):\n",
    "        try:\n",
    "            group = year_month.get_group((year,month))\n",
    "            G = nx.DiGraph()\n",
    "            G.add_nodes_from(range(0,986+1))\n",
    "            name = str(year) + \"-\"  + str(month)\n",
    "            labels.append(name)\n",
    "            for u,v in zip(group['SRC'].tolist(), group['TGT'].tolist()):\n",
    "                if G.has_edge(u,v):\n",
    "                    G[u][v][\"weight\"] += 1\n",
    "\n",
    "                else:    \n",
    "                    G.add_edge(u,v,weight=1)\n",
    "\n",
    "            G_list.append(G)\n",
    "        except:\n",
    "            print(\"No edges in: {}-{}\".format(year,month))"
   ]
  },
  {
   "cell_type": "code",
   "execution_count": 71,
   "metadata": {},
   "outputs": [],
   "source": [
    "num_edges = [g.number_of_edges() for g in G_list[:-2]]"
   ]
  },
  {
   "cell_type": "code",
   "execution_count": 72,
   "metadata": {},
   "outputs": [
    {
     "data": {
      "image/png": "[encoded data removed]",
      "text/plain": [
       "<Figure size 432x288 with 1 Axes>"
      ]
     },
     "metadata": {},
     "output_type": "display_data"
    }
   ],
   "source": [
    "plt.plot(num_edges[:],marker='.')\n",
    "plt.title(\"Email-EU: Number of Edges -- Monthly\")\n",
    "plt.xlabel(\"Time\")\n",
    "plt.ylabel(\"Num\")\n",
    "plt.xticks(np.arange(len(num_edges),step=1),labels,rotation=90);"
   ]
  },
  {
   "cell_type": "code",
   "execution_count": 73,
   "metadata": {},
   "outputs": [],
   "source": [
    "with open(\"email_1_month_dir.pkl\", 'wb') as file:\n",
    "    pickle.dump(G_list[:-2],file) #DISCARDING THE LAST TWO MONTHS b/c low number of edges"
   ]
  },
  {
   "cell_type": "markdown",
   "metadata": {},
   "source": [
    "## Weekly Snapshots"
   ]
  },
  {
   "cell_type": "code",
   "execution_count": 74,
   "metadata": {
    "scrolled": true
   },
   "outputs": [
    {
     "name": "stdout",
     "output_type": "stream",
     "text": [
      "No reviews in: 1971-24\n",
      "No reviews in: 1971-25\n",
      "No reviews in: 1971-26\n",
      "No reviews in: 1971-27\n",
      "No reviews in: 1971-28\n",
      "No reviews in: 1971-29\n",
      "No reviews in: 1971-30\n",
      "No reviews in: 1971-31\n",
      "No reviews in: 1971-32\n",
      "No reviews in: 1971-33\n",
      "No reviews in: 1971-34\n",
      "No reviews in: 1971-35\n",
      "No reviews in: 1971-36\n",
      "No reviews in: 1971-37\n",
      "No reviews in: 1971-38\n",
      "No reviews in: 1971-39\n",
      "No reviews in: 1971-40\n",
      "No reviews in: 1971-41\n",
      "No reviews in: 1971-42\n",
      "No reviews in: 1971-43\n",
      "No reviews in: 1971-44\n",
      "No reviews in: 1971-45\n",
      "No reviews in: 1971-46\n",
      "No reviews in: 1971-47\n",
      "No reviews in: 1971-48\n",
      "No reviews in: 1971-49\n",
      "No reviews in: 1971-50\n",
      "No reviews in: 1971-51\n",
      "No reviews in: 1971-52\n",
      "No reviews in: 1972-1\n",
      "No reviews in: 1972-2\n",
      "No reviews in: 1972-3\n",
      "No reviews in: 1972-4\n",
      "No reviews in: 1972-5\n",
      "No reviews in: 1972-6\n",
      "No reviews in: 1972-7\n",
      "No reviews in: 1972-8\n",
      "No reviews in: 1972-9\n",
      "No reviews in: 1972-12\n",
      "No reviews in: 1972-13\n",
      "No reviews in: 1972-14\n",
      "No reviews in: 1972-15\n",
      "No reviews in: 1972-16\n",
      "No reviews in: 1972-17\n",
      "No reviews in: 1972-18\n",
      "No reviews in: 1972-19\n",
      "No reviews in: 1972-20\n",
      "No reviews in: 1972-21\n",
      "No reviews in: 1972-22\n",
      "No reviews in: 1972-23\n",
      "No reviews in: 1972-24\n",
      "No reviews in: 1972-25\n",
      "No reviews in: 1972-26\n",
      "No reviews in: 1972-27\n",
      "No reviews in: 1972-28\n",
      "No reviews in: 1972-29\n",
      "No reviews in: 1972-30\n",
      "No reviews in: 1972-31\n",
      "No reviews in: 1972-32\n",
      "No reviews in: 1972-33\n",
      "No reviews in: 1972-34\n",
      "No reviews in: 1972-35\n",
      "No reviews in: 1972-36\n",
      "No reviews in: 1972-37\n",
      "No reviews in: 1972-38\n",
      "No reviews in: 1972-39\n",
      "No reviews in: 1972-40\n",
      "No reviews in: 1972-41\n",
      "No reviews in: 1972-42\n",
      "No reviews in: 1972-43\n",
      "No reviews in: 1972-44\n",
      "No reviews in: 1972-45\n",
      "No reviews in: 1972-46\n",
      "No reviews in: 1972-47\n",
      "No reviews in: 1972-48\n",
      "No reviews in: 1972-49\n",
      "No reviews in: 1972-50\n",
      "No reviews in: 1972-51\n",
      "No reviews in: 1972-52\n",
      "No reviews in: 1972-53\n"
     ]
    }
   ],
   "source": [
    "week = df.groupby([df['date'].dt.year, df[\"date\"].dt.week])\n",
    "G_list = []\n",
    "labels = []\n",
    "for year_num in [1970,1971,1972]:\n",
    "    for week_num in range(1,54):\n",
    "            try:\n",
    "                group = week.get_group((year_num,week_num))\n",
    "                G = nx.DiGraph()\n",
    "                G.add_nodes_from(range(0,986+1))\n",
    "                name = str(week_num)\n",
    "                labels.append(name)\n",
    "                for u,v in zip(group['SRC'].tolist(), group['TGT'].tolist()):\n",
    "                    if G.has_edge(u,v):\n",
    "                        G[u][v][\"weight\"] += 1\n",
    "\n",
    "                    else:    \n",
    "                        G.add_edge(u,v,weight=1)\n",
    "                if G.number_of_edges() >100:\n",
    "                    G_list.append(G)\n",
    "            except:\n",
    "                print(\"No reviews in: {}-{}\".format(year_num,week_num))"
   ]
  },
  {
   "cell_type": "code",
   "execution_count": 75,
   "metadata": {},
   "outputs": [
    {
     "data": {
      "image/png": "[encoded data removed]",
      "text/plain": [
       "<Figure size 432x288 with 1 Axes>"
      ]
     },
     "metadata": {},
     "output_type": "display_data"
    }
   ],
   "source": [
    "num_edges = [g.number_of_edges() for g in G_list[:-4]]\n",
    "plt.plot(num_edges[:],marker='.')\n",
    "plt.title(\"Email-EU: Number of Edges -- Monthly\")\n",
    "plt.xlabel(\"Time\")\n",
    "plt.ylabel(\"Num\")\n",
    "plt.xticks(np.arange(len(num_edges),step=3),labels[::3],rotation=90);"
   ]
  },
  {
   "cell_type": "code",
   "execution_count": 76,
   "metadata": {},
   "outputs": [],
   "source": [
    "with open(\"email_1_week_dir.pkl\", 'wb') as file:\n",
    "    pickle.dump(G_list[:-4],file) #DISCARDING THE LAST 4 WEEKS b/c of sudden drop!"
   ]
  },
  {
   "cell_type": "markdown",
   "metadata": {},
   "source": [
    "## Equal (Weekly) Snapshots"
   ]
  },
  {
   "cell_type": "code",
   "execution_count": 77,
   "metadata": {},
   "outputs": [],
   "source": [
    "G_list = []\n",
    "\n",
    "slice_num = 74;\n",
    "slice_edge_num = int(np.floor(len(df) / slice_num));\n",
    "\n",
    "for index in range(slice_num):\n",
    "    G = nx.DiGraph()\n",
    "\n",
    "    G.add_nodes_from(range(0,986+1))\n",
    "    \n",
    "    group = df.iloc[(index * slice_edge_num):(index + 1) * slice_edge_num]\n",
    "    for u,v in zip(group[\"SRC\"].tolist(), group[\"TGT\"].tolist()):\n",
    "        if G.has_edge(u,v):\n",
    "            \n",
    "            G[u][v][\"weight\"] += 1\n",
    "            \n",
    "        else: \n",
    "            G.add_edge(u,v,weight=1)            \n",
    "    G_list.append(G)"
   ]
  },
  {
   "cell_type": "code",
   "execution_count": 78,
   "metadata": {},
   "outputs": [
    {
     "data": {
      "text/plain": [
       "Text(0, 0.5, 'Num')"
      ]
     },
     "execution_count": 78,
     "metadata": {},
     "output_type": "execute_result"
    },
    {
     "data": {
      "image/png": "[encoded data removed]",
      "text/plain": [
       "<Figure size 432x288 with 1 Axes>"
      ]
     },
     "metadata": {},
     "output_type": "display_data"
    }
   ],
   "source": [
    "num_edges = [g.number_of_edges() for g in G_list[:]]\n",
    "plt.plot(num_edges[:],marker='.')\n",
    "plt.title(\"Email-EU: Number of Edges -- Monthly\")\n",
    "plt.xlabel(\"Time\")\n",
    "plt.ylabel(\"Num\")\n",
    "#plt.xticks(np.arange(len(num_edges),step=3),labels[::3],rotation=90);"
   ]
  },
  {
   "cell_type": "code",
   "execution_count": 79,
   "metadata": {},
   "outputs": [],
   "source": [
    "with open(\"email_equal_weekly_dir.pkl\", 'wb') as file:\n",
    "    pickle.dump(G_list,file) #74 snapshots"
   ]
  },
  {
   "cell_type": "markdown",
   "metadata": {},
   "source": [
    "## Equal (Monthly) Snapshots"
   ]
  },
  {
   "cell_type": "code",
   "execution_count": 80,
   "metadata": {},
   "outputs": [
    {
     "data": {
      "text/plain": [
       "17"
      ]
     },
     "execution_count": 80,
     "metadata": {},
     "output_type": "execute_result"
    }
   ],
   "source": [
    "with open('email_1_month_dir.pkl','rb') as file:\n",
    "    xx = pickle.load(file)\n",
    "len(xx)"
   ]
  },
  {
   "cell_type": "code",
   "execution_count": 81,
   "metadata": {},
   "outputs": [],
   "source": [
    "G_list = []\n",
    "\n",
    "slice_num = 17;\n",
    "slice_edge_num = int(np.floor(len(df) / slice_num));\n",
    "\n",
    "for index in range(slice_num):\n",
    "    G = nx.DiGraph()\n",
    "\n",
    "    G.add_nodes_from(range(0,986+1))\n",
    "    \n",
    "    group = df.iloc[(index * slice_edge_num):(index + 1) * slice_edge_num]\n",
    "    for u,v in zip(group[\"SRC\"].tolist(), group[\"TGT\"].tolist()):\n",
    "        if G.has_edge(u,v):\n",
    "            \n",
    "            G[u][v][\"weight\"] += 1\n",
    "            \n",
    "        else: \n",
    "            G.add_edge(u,v,weight=1)            \n",
    "    G_list.append(G)"
   ]
  },
  {
   "cell_type": "code",
   "execution_count": 82,
   "metadata": {},
   "outputs": [
    {
     "data": {
      "text/plain": [
       "Text(0.5, 1.0, 'Num of Edges in Equal Months')"
      ]
     },
     "execution_count": 82,
     "metadata": {},
     "output_type": "execute_result"
    },
    {
     "data": {
      "image/png": "[encoded data removed]",
      "text/plain": [
       "<Figure size 432x288 with 1 Axes>"
      ]
     },
     "metadata": {},
     "output_type": "display_data"
    }
   ],
   "source": [
    "g_len = [len(g.edges) for g in G_list]\n",
    "plt.plot(g_len)\n",
    "plt.title(\"Num of Edges in Equal Months\")"
   ]
  },
  {
   "cell_type": "code",
   "execution_count": 83,
   "metadata": {},
   "outputs": [],
   "source": [
    "with open(\"email_equal_monthly_dir.pkl\", \"wb\") as file:\n",
    "    pickle.dump(G_list,file)"
   ]
  },
  {
   "cell_type": "markdown",
   "metadata": {},
   "source": [
    "## OLD WORK"
   ]
  },
  {
   "cell_type": "code",
   "execution_count": 17,
   "metadata": {},
   "outputs": [
    {
     "name": "stdout",
     "output_type": "stream",
     "text": [
      "0/28\n",
      "1/28\n",
      "2/28\n",
      "3/28\n",
      "4/28\n",
      "5/28\n",
      "6/28\n",
      "7/28\n",
      "8/28\n",
      "9/28\n",
      "10/28\n",
      "11/28\n",
      "12/28\n",
      "13/28\n",
      "14/28\n",
      "15/28\n",
      "16/28\n",
      "17/28\n",
      "18/28\n",
      "19/28\n",
      "20/28\n",
      "21/28\n",
      "22/28\n",
      "23/28\n",
      "24/28\n",
      "25/28\n",
      "26/28\n",
      "27/28\n"
     ]
    }
   ],
   "source": [
    "G_list = []\n",
    "G_dir_list = []\n",
    "week_groups = df.groupby(\"WEEK\")\n",
    "\n",
    "G = nx.Graph()\n",
    "G_dir = nx.DiGraph()\n",
    "\n",
    "G.add_nodes_from(range(0,1899))\n",
    "G_dir.add_nodes_from(range(0,1899))\n",
    "\n",
    "for e,week in enumerate(weeks):\n",
    "    print(\"{}/{}\".format(e,len(weeks)))\n",
    "    \n",
    "    try:\n",
    "        group = week_groups.get_group(week)\n",
    "        for u,v in zip(group[\"SRC\"].tolist(), group[\"TGT\"].tolist()):\n",
    "            if G.has_edge(u,v):\n",
    "                G[u][v][\"weight\"] += 1\n",
    "\n",
    "                G_dir[u][v][\"weight\"] += 1\n",
    "                G_dir[v][u][\"weight\"] += 1\n",
    "            else: \n",
    "                G.add_edge(u,v,weight=1)\n",
    "                G_dir.add_edge(u,v,weight=1)\n",
    "                G_dir.add_edge(v,u,weight=1)\n",
    "    except:\n",
    "        print(\"No messages in {}\".format(week))\n",
    "    G_list.append(copy.deepcopy(G))\n",
    "    G_dir_list.append(copy.deepcopy(G_dir))"
   ]
  },
  {
   "cell_type": "code",
   "execution_count": 18,
   "metadata": {},
   "outputs": [],
   "source": [
    "with open(\"CollegeMsg/Graphs/msg_1_week_agg_undir.pkl\", \"wb\") as file:\n",
    "    pickle.dump(G_list,file)\n",
    "    \n",
    "with open(\"CollegeMsg/Graphs/msg_1_week_agg_dir.pkl\", \"wb\") as file:\n",
    "    pickle.dump(G_dir_list,file)"
   ]
  },
  {
   "cell_type": "markdown",
   "metadata": {},
   "source": [
    "## 1-month Snapshots"
   ]
  },
  {
   "cell_type": "code",
   "execution_count": 19,
   "metadata": {},
   "outputs": [],
   "source": [
    "df['MONTH'] = 0\n",
    "for index, row in df.iterrows():\n",
    "    row['MONTH'] = datetime.datetime.fromtimestamp(row['UNIXTS']).month"
   ]
  },
  {
   "cell_type": "code",
   "execution_count": 20,
   "metadata": {},
   "outputs": [
    {
     "data": {
      "text/html": [
       "<div>\n",
       "<style scoped>\n",
       "    .dataframe tbody tr th:only-of-type {\n",
       "        vertical-align: middle;\n",
       "    }\n",
       "\n",
       "    .dataframe tbody tr th {\n",
       "        vertical-align: top;\n",
       "    }\n",
       "\n",
       "    .dataframe thead th {\n",
       "        text-align: right;\n",
       "    }\n",
       "</style>\n",
       "<table border=\"1\" class=\"dataframe\">\n",
       "  <thead>\n",
       "    <tr style=\"text-align: right;\">\n",
       "      <th></th>\n",
       "      <th>SRC</th>\n",
       "      <th>TGT</th>\n",
       "      <th>UNIXTS</th>\n",
       "      <th>WEEK</th>\n",
       "      <th>MONTH</th>\n",
       "    </tr>\n",
       "  </thead>\n",
       "  <tbody>\n",
       "    <tr>\n",
       "      <th>2</th>\n",
       "      <td>4</td>\n",
       "      <td>1</td>\n",
       "      <td>1082414391</td>\n",
       "      <td>17</td>\n",
       "      <td>4</td>\n",
       "    </tr>\n",
       "    <tr>\n",
       "      <th>3</th>\n",
       "      <td>5</td>\n",
       "      <td>6</td>\n",
       "      <td>1082439619</td>\n",
       "      <td>17</td>\n",
       "      <td>4</td>\n",
       "    </tr>\n",
       "    <tr>\n",
       "      <th>4</th>\n",
       "      <td>7</td>\n",
       "      <td>6</td>\n",
       "      <td>1082439756</td>\n",
       "      <td>17</td>\n",
       "      <td>4</td>\n",
       "    </tr>\n",
       "    <tr>\n",
       "      <th>5</th>\n",
       "      <td>8</td>\n",
       "      <td>9</td>\n",
       "      <td>1082440403</td>\n",
       "      <td>17</td>\n",
       "      <td>4</td>\n",
       "    </tr>\n",
       "    <tr>\n",
       "      <th>6</th>\n",
       "      <td>8</td>\n",
       "      <td>10</td>\n",
       "      <td>1082440453</td>\n",
       "      <td>17</td>\n",
       "      <td>4</td>\n",
       "    </tr>\n",
       "  </tbody>\n",
       "</table>\n",
       "</div>"
      ],
      "text/plain": [
       "   SRC  TGT      UNIXTS  WEEK  MONTH\n",
       "2    4    1  1082414391    17      4\n",
       "3    5    6  1082439619    17      4\n",
       "4    7    6  1082439756    17      4\n",
       "5    8    9  1082440403    17      4\n",
       "6    8   10  1082440453    17      4"
      ]
     },
     "execution_count": 20,
     "metadata": {},
     "output_type": "execute_result"
    }
   ],
   "source": [
    "df.head(5)"
   ]
  },
  {
   "cell_type": "code",
   "execution_count": 21,
   "metadata": {},
   "outputs": [],
   "source": [
    "months = sorted(df['MONTH'].unique())"
   ]
  },
  {
   "cell_type": "code",
   "execution_count": 22,
   "metadata": {},
   "outputs": [
    {
     "data": {
      "text/plain": [
       "7"
      ]
     },
     "execution_count": 22,
     "metadata": {},
     "output_type": "execute_result"
    }
   ],
   "source": [
    "len(months)"
   ]
  },
  {
   "cell_type": "code",
   "execution_count": 23,
   "metadata": {},
   "outputs": [
    {
     "name": "stdout",
     "output_type": "stream",
     "text": [
      "0/7\n",
      "1/7\n",
      "2/7\n",
      "3/7\n",
      "4/7\n",
      "5/7\n",
      "6/7\n"
     ]
    }
   ],
   "source": [
    "G_list = []\n",
    "G_dir_list = []\n",
    "month_groups = df.groupby(\"MONTH\")\n",
    "\n",
    "\n",
    "for e,month in enumerate(months):\n",
    "    print(\"{}/{}\".format(e,len(months)))\n",
    "    \n",
    "    G = nx.Graph()\n",
    "    G_dir = nx.DiGraph()\n",
    "\n",
    "    G.add_nodes_from(range(0,1899))\n",
    "    G_dir.add_nodes_from(range(0,1899))\n",
    "    \n",
    "    try:\n",
    "        group = month_groups.get_group(month)\n",
    "        for u,v in zip(group[\"SRC\"].tolist(), group[\"TGT\"].tolist()):\n",
    "            if G.has_edge(u,v):\n",
    "                G[u][v][\"weight\"] += 1\n",
    "\n",
    "                G_dir[u][v][\"weight\"] += 1\n",
    "                G_dir[v][u][\"weight\"] += 1\n",
    "            else: \n",
    "                G.add_edge(u,v,weight=1)\n",
    "                G_dir.add_edge(u,v,weight=1)\n",
    "                G_dir.add_edge(v,u,weight=1)\n",
    "\n",
    "    except:\n",
    "        print(\"No messages in: \", month)\n",
    "    G_list.append(G)\n",
    "    G_dir_list.append(G_dir)"
   ]
  },
  {
   "cell_type": "code",
   "execution_count": 24,
   "metadata": {},
   "outputs": [
    {
     "data": {
      "text/plain": [
       "1899"
      ]
     },
     "execution_count": 24,
     "metadata": {},
     "output_type": "execute_result"
    }
   ],
   "source": [
    "G_list[6].number_of_nodes()"
   ]
  },
  {
   "cell_type": "code",
   "execution_count": 25,
   "metadata": {},
   "outputs": [
    {
     "data": {
      "text/plain": [
       "Text(0.5, 1.0, 'Num of Edges in 1-month Snapshots')"
      ]
     },
     "execution_count": 25,
     "metadata": {},
     "output_type": "execute_result"
    },
    {
     "data": {
      "image/png": "[encoded data removed]",
      "text/plain": [
       "<Figure size 432x288 with 1 Axes>"
      ]
     },
     "metadata": {
      "needs_background": "light"
     },
     "output_type": "display_data"
    }
   ],
   "source": [
    "g_len = [len(g.edges) for g in G_list]\n",
    "plt.plot(g_len)\n",
    "plt.title(\"Num of Edges in 1-month Snapshots\")"
   ]
  },
  {
   "cell_type": "code",
   "execution_count": 26,
   "metadata": {},
   "outputs": [],
   "source": [
    "with open(\"CollegeMsg/Graphs/msg_1_month_undir.pkl\", \"wb\") as file:\n",
    "    pickle.dump(G_list, file)\n",
    "    \n",
    "with open(\"CollegeMsg/Graphs/msg_1_month_dir.pkl\", \"wb\") as file:\n",
    "    pickle.dump(G_dir_list,file)"
   ]
  },
  {
   "cell_type": "code",
   "execution_count": 27,
   "metadata": {},
   "outputs": [
    {
     "name": "stdout",
     "output_type": "stream",
     "text": [
      "0/7\n",
      "1/7\n",
      "2/7\n",
      "3/7\n",
      "4/7\n",
      "5/7\n",
      "6/7\n"
     ]
    }
   ],
   "source": [
    "G_list = []\n",
    "G_dir_list = []\n",
    "month_groups = df.groupby(\"MONTH\")\n",
    "\n",
    "G = nx.Graph()\n",
    "G_dir = nx.DiGraph()\n",
    "\n",
    "G.add_nodes_from(range(0,1899))\n",
    "G_dir.add_nodes_from(range(0,1899))\n",
    "\n",
    "for e,month in enumerate(months):\n",
    "    print(\"{}/{}\".format(e,len(months)))\n",
    "    \n",
    "    try:\n",
    "        group = month_groups.get_group(month)\n",
    "        for u,v in zip(group[\"SRC\"].tolist(), group[\"TGT\"].tolist()):\n",
    "            if G.has_edge(u,v):\n",
    "                G[u][v][\"weight\"] += 1\n",
    "\n",
    "                G_dir[u][v][\"weight\"] += 1\n",
    "                G_dir[v][u][\"weight\"] += 1\n",
    "            else: \n",
    "                G.add_edge(u,v,weight=1)\n",
    "                G_dir.add_edge(u,v,weight=1)\n",
    "                G_dir.add_edge(v,u,weight=1)\n",
    "    except:\n",
    "        print(\"No messages in :\", month)\n",
    "    G_list.append(copy.deepcopy(G))\n",
    "    G_dir_list.append(copy.deepcopy(G_dir))"
   ]
  },
  {
   "cell_type": "code",
   "execution_count": 28,
   "metadata": {},
   "outputs": [],
   "source": [
    "with open(\"CollegeMsg/Graphs/msg_1_month_agg_undir.pkl\", \"wb\") as file:\n",
    "    pickle.dump(G_list,file)\n",
    "    \n",
    "with open(\"CollegeMsg/Graphs/msg_1_month_agg_dir.pkl\", \"wb\") as file:\n",
    "    pickle.dump(G_dir_list,file)"
   ]
  },
  {
   "cell_type": "code",
   "execution_count": 29,
   "metadata": {},
   "outputs": [
    {
     "data": {
      "text/plain": [
       "59833"
      ]
     },
     "execution_count": 29,
     "metadata": {},
     "output_type": "execute_result"
    }
   ],
   "source": [
    "len(df)"
   ]
  },
  {
   "cell_type": "code",
   "execution_count": 30,
   "metadata": {},
   "outputs": [
    {
     "data": {
      "text/plain": [
       "2136.8928571428573"
      ]
     },
     "execution_count": 30,
     "metadata": {},
     "output_type": "execute_result"
    }
   ],
   "source": [
    "len(df) / 28"
   ]
  },
  {
   "cell_type": "markdown",
   "metadata": {},
   "source": [
    "## Equal-edges Snapshots"
   ]
  },
  {
   "cell_type": "code",
   "execution_count": 31,
   "metadata": {},
   "outputs": [],
   "source": [
    "G_list = []\n",
    "G_dir_list = []\n",
    "\n",
    "slice_num = 28;\n",
    "slice_edge_num = int(np.floor(len(df) / slice_num));\n",
    "\n",
    "for index in range(slice_num):\n",
    "    G = nx.Graph()\n",
    "    G_dir = nx.DiGraph()\n",
    "\n",
    "    G.add_nodes_from(range(0,1899))\n",
    "    G_dir.add_nodes_from(range(0,1899))\n",
    "    \n",
    "    group = df.iloc[(index * slice_edge_num):(index + 1) * slice_edge_num]\n",
    "    for u,v in zip(group[\"SRC\"].tolist(), group[\"TGT\"].tolist()):\n",
    "        if G.has_edge(u,v):\n",
    "            G[u][v][\"weight\"] += 1\n",
    "\n",
    "            G_dir[u][v][\"weight\"] += 1\n",
    "            G_dir[v][u][\"weight\"] += 1\n",
    "        else: \n",
    "            G.add_edge(u,v,weight=1)\n",
    "            G_dir.add_edge(u,v,weight=1)\n",
    "            G_dir.add_edge(v,u,weight=1)\n",
    "            \n",
    "    G_list.append(G)\n",
    "    G_dir_list.append(G_dir)"
   ]
  },
  {
   "cell_type": "code",
   "execution_count": 32,
   "metadata": {},
   "outputs": [
    {
     "data": {
      "text/plain": [
       "Text(0.5, 1.0, 'Num of Edges in equal-edge Snapshots')"
      ]
     },
     "execution_count": 32,
     "metadata": {},
     "output_type": "execute_result"
    },
    {
     "data": {
      "image/png": "[encoded data removed]",
      "text/plain": [
       "<Figure size 432x288 with 1 Axes>"
      ]
     },
     "metadata": {
      "needs_background": "light"
     },
     "output_type": "display_data"
    }
   ],
   "source": [
    "g_len = [len(g.edges) for g in G_list]\n",
    "plt.plot(g_len)\n",
    "plt.title(\"Num of Edges in equal-edge Snapshots\")"
   ]
  },
  {
   "cell_type": "code",
   "execution_count": 33,
   "metadata": {},
   "outputs": [
    {
     "data": {
      "text/html": [
       "<div>\n",
       "<style scoped>\n",
       "    .dataframe tbody tr th:only-of-type {\n",
       "        vertical-align: middle;\n",
       "    }\n",
       "\n",
       "    .dataframe tbody tr th {\n",
       "        vertical-align: top;\n",
       "    }\n",
       "\n",
       "    .dataframe thead th {\n",
       "        text-align: right;\n",
       "    }\n",
       "</style>\n",
       "<table border=\"1\" class=\"dataframe\">\n",
       "  <thead>\n",
       "    <tr style=\"text-align: right;\">\n",
       "      <th></th>\n",
       "      <th>SRC</th>\n",
       "      <th>TGT</th>\n",
       "      <th>UNIXTS</th>\n",
       "      <th>WEEK</th>\n",
       "      <th>MONTH</th>\n",
       "    </tr>\n",
       "  </thead>\n",
       "  <tbody>\n",
       "    <tr>\n",
       "      <th>59830</th>\n",
       "      <td>1898</td>\n",
       "      <td>1846</td>\n",
       "      <td>1098776648</td>\n",
       "      <td>44</td>\n",
       "      <td>10</td>\n",
       "    </tr>\n",
       "    <tr>\n",
       "      <th>59831</th>\n",
       "      <td>1898</td>\n",
       "      <td>1096</td>\n",
       "      <td>1098776836</td>\n",
       "      <td>44</td>\n",
       "      <td>10</td>\n",
       "    </tr>\n",
       "    <tr>\n",
       "      <th>59832</th>\n",
       "      <td>1898</td>\n",
       "      <td>276</td>\n",
       "      <td>1098777003</td>\n",
       "      <td>44</td>\n",
       "      <td>10</td>\n",
       "    </tr>\n",
       "    <tr>\n",
       "      <th>59833</th>\n",
       "      <td>1877</td>\n",
       "      <td>1623</td>\n",
       "      <td>1098777111</td>\n",
       "      <td>44</td>\n",
       "      <td>10</td>\n",
       "    </tr>\n",
       "    <tr>\n",
       "      <th>59834</th>\n",
       "      <td>1877</td>\n",
       "      <td>1623</td>\n",
       "      <td>1098777142</td>\n",
       "      <td>44</td>\n",
       "      <td>10</td>\n",
       "    </tr>\n",
       "  </tbody>\n",
       "</table>\n",
       "</div>"
      ],
      "text/plain": [
       "        SRC   TGT      UNIXTS  WEEK  MONTH\n",
       "59830  1898  1846  1098776648    44     10\n",
       "59831  1898  1096  1098776836    44     10\n",
       "59832  1898   276  1098777003    44     10\n",
       "59833  1877  1623  1098777111    44     10\n",
       "59834  1877  1623  1098777142    44     10"
      ]
     },
     "execution_count": 33,
     "metadata": {},
     "output_type": "execute_result"
    }
   ],
   "source": [
    "df.tail(5)"
   ]
  },
  {
   "cell_type": "code",
   "execution_count": 34,
   "metadata": {},
   "outputs": [],
   "source": [
    "with open(\"CollegeMsg/Graphs/msg_equal_edge_undir.pkl\", \"wb\") as file:\n",
    "    pickle.dump(G_list, file)\n",
    "    \n",
    "with open(\"CollegeMsg/Graphs/msg_equal_edge_dir.pkl\", \"wb\") as file:\n",
    "    pickle.dump(G_dir_list,file)"
   ]
  },
  {
   "cell_type": "markdown",
   "metadata": {},
   "source": [
    "## Equal-edges Aggregates"
   ]
  },
  {
   "cell_type": "code",
   "execution_count": 35,
   "metadata": {},
   "outputs": [],
   "source": [
    "G_list = []\n",
    "G_dir_list = []\n",
    "\n",
    "G = nx.Graph()\n",
    "G_dir = nx.DiGraph()\n",
    "\n",
    "G.add_nodes_from(range(0,1899))\n",
    "G_dir.add_nodes_from(range(0,1899))\n",
    "\n",
    "slice_num = 28;\n",
    "slice_edge_num = int(np.floor(len(df) / slice_num));\n",
    "\n",
    "for index in range(slice_num):\n",
    "    G.add_nodes_from(range(0,1899))\n",
    "    G_dir.add_nodes_from(range(0,1899))\n",
    "    \n",
    "    group = df.iloc[(index * slice_edge_num):(index + 1) * slice_edge_num]\n",
    "    for u,v in zip(group[\"SRC\"].tolist(), group[\"TGT\"].tolist()):\n",
    "        if G.has_edge(u,v):\n",
    "            G[u][v][\"weight\"] += 1\n",
    "\n",
    "            G_dir[u][v][\"weight\"] += 1\n",
    "            G_dir[v][u][\"weight\"] += 1\n",
    "        else: \n",
    "            G.add_edge(u,v,weight=1)\n",
    "            G_dir.add_edge(u,v,weight=1)\n",
    "            G_dir.add_edge(v,u,weight=1)\n",
    "            \n",
    "    G_list.append(copy.deepcopy(G))\n",
    "    G_dir_list.append(copy.deepcopy(G_dir))"
   ]
  },
  {
   "cell_type": "code",
   "execution_count": 36,
   "metadata": {},
   "outputs": [
    {
     "data": {
      "text/plain": [
       "Text(0.5, 1.0, 'Num of Edges in equal-edge Aggregates')"
      ]
     },
     "execution_count": 36,
     "metadata": {},
     "output_type": "execute_result"
    },
    {
     "data": {
      "image/png": "[encoded data removed]",
      "text/plain": [
       "<Figure size 432x288 with 1 Axes>"
      ]
     },
     "metadata": {
      "needs_background": "light"
     },
     "output_type": "display_data"
    }
   ],
   "source": [
    "g_len = [len(g.edges) for g in G_list]\n",
    "plt.plot(g_len)\n",
    "plt.title(\"Num of Edges in equal-edge Aggregates\")"
   ]
  },
  {
   "cell_type": "code",
   "execution_count": 37,
   "metadata": {},
   "outputs": [],
   "source": [
    "with open(\"CollegeMsg/Graphs/msg_equal_edge_agg_undir.pkl\", \"wb\") as file:\n",
    "    pickle.dump(G_list, file)\n",
    "    \n",
    "with open(\"CollegeMsg/Graphs/msg_equal_edge_agg_dir.pkl\", \"wb\") as file:\n",
    "    pickle.dump(G_dir_list,file)"
   ]
  },
  {
   "cell_type": "code",
   "execution_count": null,
   "metadata": {},
   "outputs": [],
   "source": []
  }
 ],
 "metadata": {
  "kernelspec": {
   "display_name": "Python 3",
   "language": "python",
   "name": "python3"
  },
  "language_info": {
   "codemirror_mode": {
    "name": "ipython",
    "version": 3
   },
   "file_extension": ".py",
   "mimetype": "text/x-python",
   "name": "python",
   "nbconvert_exporter": "python",
   "pygments_lexer": "ipython3",
   "version": "3.7.4"
  },
  "toc": {
   "base_numbering": 1,
   "nav_menu": {},
   "number_sections": true,
   "sideBar": true,
   "skip_h1_title": true,
   "title_cell": "Table of Contents",
   "title_sidebar": "Contents",
   "toc_cell": true,
   "toc_position": {
    "height": "calc(100% - 180px)",
    "left": "10px",
    "top": "150px",
    "width": "384px"
   },
   "toc_section_display": true,
   "toc_window_display": true
  }
 },
 "nbformat": 4,
 "nbformat_minor": 2
}
