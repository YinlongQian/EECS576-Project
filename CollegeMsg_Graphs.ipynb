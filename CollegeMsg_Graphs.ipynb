{
 "cells": [
  {
   "cell_type": "code",
   "execution_count": 1,
   "metadata": {},
   "outputs": [],
   "source": [
    "import pandas as pd\n",
    "import numpy as np\n",
    "import matplotlib.pyplot as plt\n",
    "\n",
    "import networkx as nx\n",
    "\n",
    "import pickle\n",
    "import copy\n",
    "\n",
    "import datetime"
   ]
  },
  {
   "cell_type": "code",
   "execution_count": 2,
   "metadata": {},
   "outputs": [],
   "source": [
    "df = pd.read_csv('CollegeMsg/CollegeMsg.txt', sep=\" \", names=['SRC','TGT','UNIXTS'])"
   ]
  },
  {
   "cell_type": "code",
   "execution_count": 3,
   "metadata": {},
   "outputs": [],
   "source": [
    "df['SRC'] = df['SRC'] - 1\n",
    "df['TGT'] = df['TGT'] - 1"
   ]
  },
  {
   "cell_type": "code",
   "execution_count": 6,
   "metadata": {},
   "outputs": [
    {
     "data": {
      "text/html": [
       "<div>\n",
       "<style scoped>\n",
       "    .dataframe tbody tr th:only-of-type {\n",
       "        vertical-align: middle;\n",
       "    }\n",
       "\n",
       "    .dataframe tbody tr th {\n",
       "        vertical-align: top;\n",
       "    }\n",
       "\n",
       "    .dataframe thead th {\n",
       "        text-align: right;\n",
       "    }\n",
       "</style>\n",
       "<table border=\"1\" class=\"dataframe\">\n",
       "  <thead>\n",
       "    <tr style=\"text-align: right;\">\n",
       "      <th></th>\n",
       "      <th>SRC</th>\n",
       "      <th>TGT</th>\n",
       "      <th>UNIXTS</th>\n",
       "    </tr>\n",
       "  </thead>\n",
       "  <tbody>\n",
       "    <tr>\n",
       "      <th>0</th>\n",
       "      <td>0</td>\n",
       "      <td>1</td>\n",
       "      <td>1082040961</td>\n",
       "    </tr>\n",
       "    <tr>\n",
       "      <th>1</th>\n",
       "      <td>2</td>\n",
       "      <td>3</td>\n",
       "      <td>1082155839</td>\n",
       "    </tr>\n",
       "    <tr>\n",
       "      <th>2</th>\n",
       "      <td>4</td>\n",
       "      <td>1</td>\n",
       "      <td>1082414391</td>\n",
       "    </tr>\n",
       "    <tr>\n",
       "      <th>3</th>\n",
       "      <td>5</td>\n",
       "      <td>6</td>\n",
       "      <td>1082439619</td>\n",
       "    </tr>\n",
       "    <tr>\n",
       "      <th>4</th>\n",
       "      <td>7</td>\n",
       "      <td>6</td>\n",
       "      <td>1082439756</td>\n",
       "    </tr>\n",
       "  </tbody>\n",
       "</table>\n",
       "</div>"
      ],
      "text/plain": [
       "   SRC  TGT      UNIXTS\n",
       "0    0    1  1082040961\n",
       "1    2    3  1082155839\n",
       "2    4    1  1082414391\n",
       "3    5    6  1082439619\n",
       "4    7    6  1082439756"
      ]
     },
     "execution_count": 6,
     "metadata": {},
     "output_type": "execute_result"
    }
   ],
   "source": [
    "df.head(5)"
   ]
  },
  {
   "cell_type": "code",
   "execution_count": 5,
   "metadata": {},
   "outputs": [
    {
     "data": {
      "text/html": [
       "<div>\n",
       "<style scoped>\n",
       "    .dataframe tbody tr th:only-of-type {\n",
       "        vertical-align: middle;\n",
       "    }\n",
       "\n",
       "    .dataframe tbody tr th {\n",
       "        vertical-align: top;\n",
       "    }\n",
       "\n",
       "    .dataframe thead th {\n",
       "        text-align: right;\n",
       "    }\n",
       "</style>\n",
       "<table border=\"1\" class=\"dataframe\">\n",
       "  <thead>\n",
       "    <tr style=\"text-align: right;\">\n",
       "      <th></th>\n",
       "      <th>SRC</th>\n",
       "      <th>TGT</th>\n",
       "      <th>UNIXTS</th>\n",
       "    </tr>\n",
       "  </thead>\n",
       "  <tbody>\n",
       "    <tr>\n",
       "      <th>59830</th>\n",
       "      <td>1898</td>\n",
       "      <td>1846</td>\n",
       "      <td>1098776648</td>\n",
       "    </tr>\n",
       "    <tr>\n",
       "      <th>59831</th>\n",
       "      <td>1898</td>\n",
       "      <td>1096</td>\n",
       "      <td>1098776836</td>\n",
       "    </tr>\n",
       "    <tr>\n",
       "      <th>59832</th>\n",
       "      <td>1898</td>\n",
       "      <td>276</td>\n",
       "      <td>1098777003</td>\n",
       "    </tr>\n",
       "    <tr>\n",
       "      <th>59833</th>\n",
       "      <td>1877</td>\n",
       "      <td>1623</td>\n",
       "      <td>1098777111</td>\n",
       "    </tr>\n",
       "    <tr>\n",
       "      <th>59834</th>\n",
       "      <td>1877</td>\n",
       "      <td>1623</td>\n",
       "      <td>1098777142</td>\n",
       "    </tr>\n",
       "  </tbody>\n",
       "</table>\n",
       "</div>"
      ],
      "text/plain": [
       "        SRC   TGT      UNIXTS\n",
       "59830  1898  1846  1098776648\n",
       "59831  1898  1096  1098776836\n",
       "59832  1898   276  1098777003\n",
       "59833  1877  1623  1098777111\n",
       "59834  1877  1623  1098777142"
      ]
     },
     "execution_count": 5,
     "metadata": {},
     "output_type": "execute_result"
    }
   ],
   "source": [
    "df.tail(5)"
   ]
  },
  {
   "cell_type": "code",
   "execution_count": 7,
   "metadata": {},
   "outputs": [
    {
     "name": "stdout",
     "output_type": "stream",
     "text": [
      "Uniq Union User:  1899\n"
     ]
    }
   ],
   "source": [
    "uniq_SRC = df.SRC.unique()\n",
    "uniq_TGT = df.TGT.unique()\n",
    "uniq_union_user = list(set(uniq_SRC) | set(uniq_TGT))\n",
    "print(\"Uniq Union User: \", len(uniq_union_user))"
   ]
  },
  {
   "cell_type": "code",
   "execution_count": 8,
   "metadata": {},
   "outputs": [],
   "source": [
    "df = df.iloc[2:]"
   ]
  },
  {
   "cell_type": "code",
   "execution_count": 9,
   "metadata": {},
   "outputs": [
    {
     "data": {
      "text/html": [
       "<div>\n",
       "<style scoped>\n",
       "    .dataframe tbody tr th:only-of-type {\n",
       "        vertical-align: middle;\n",
       "    }\n",
       "\n",
       "    .dataframe tbody tr th {\n",
       "        vertical-align: top;\n",
       "    }\n",
       "\n",
       "    .dataframe thead th {\n",
       "        text-align: right;\n",
       "    }\n",
       "</style>\n",
       "<table border=\"1\" class=\"dataframe\">\n",
       "  <thead>\n",
       "    <tr style=\"text-align: right;\">\n",
       "      <th></th>\n",
       "      <th>SRC</th>\n",
       "      <th>TGT</th>\n",
       "      <th>UNIXTS</th>\n",
       "    </tr>\n",
       "  </thead>\n",
       "  <tbody>\n",
       "    <tr>\n",
       "      <th>2</th>\n",
       "      <td>4</td>\n",
       "      <td>1</td>\n",
       "      <td>1082414391</td>\n",
       "    </tr>\n",
       "    <tr>\n",
       "      <th>3</th>\n",
       "      <td>5</td>\n",
       "      <td>6</td>\n",
       "      <td>1082439619</td>\n",
       "    </tr>\n",
       "    <tr>\n",
       "      <th>4</th>\n",
       "      <td>7</td>\n",
       "      <td>6</td>\n",
       "      <td>1082439756</td>\n",
       "    </tr>\n",
       "    <tr>\n",
       "      <th>5</th>\n",
       "      <td>8</td>\n",
       "      <td>9</td>\n",
       "      <td>1082440403</td>\n",
       "    </tr>\n",
       "    <tr>\n",
       "      <th>6</th>\n",
       "      <td>8</td>\n",
       "      <td>10</td>\n",
       "      <td>1082440453</td>\n",
       "    </tr>\n",
       "  </tbody>\n",
       "</table>\n",
       "</div>"
      ],
      "text/plain": [
       "   SRC  TGT      UNIXTS\n",
       "2    4    1  1082414391\n",
       "3    5    6  1082439619\n",
       "4    7    6  1082439756\n",
       "5    8    9  1082440403\n",
       "6    8   10  1082440453"
      ]
     },
     "execution_count": 9,
     "metadata": {},
     "output_type": "execute_result"
    }
   ],
   "source": [
    "df.head(5)"
   ]
  },
  {
   "cell_type": "markdown",
   "metadata": {},
   "source": [
    "## 1-day Snapshots"
   ]
  },
  {
   "cell_type": "code",
   "execution_count": 38,
   "metadata": {},
   "outputs": [],
   "source": [
    "df['DAY'] = df['UNIXTS'] / 86400\n",
    "df['DAY'] = df['DAY'].round(0).astype(int) - 1"
   ]
  },
  {
   "cell_type": "code",
   "execution_count": 39,
   "metadata": {},
   "outputs": [
    {
     "data": {
      "text/html": [
       "<div>\n",
       "<style scoped>\n",
       "    .dataframe tbody tr th:only-of-type {\n",
       "        vertical-align: middle;\n",
       "    }\n",
       "\n",
       "    .dataframe tbody tr th {\n",
       "        vertical-align: top;\n",
       "    }\n",
       "\n",
       "    .dataframe thead th {\n",
       "        text-align: right;\n",
       "    }\n",
       "</style>\n",
       "<table border=\"1\" class=\"dataframe\">\n",
       "  <thead>\n",
       "    <tr style=\"text-align: right;\">\n",
       "      <th></th>\n",
       "      <th>SRC</th>\n",
       "      <th>TGT</th>\n",
       "      <th>UNIXTS</th>\n",
       "      <th>WEEK</th>\n",
       "      <th>MONTH</th>\n",
       "      <th>DAY</th>\n",
       "    </tr>\n",
       "  </thead>\n",
       "  <tbody>\n",
       "    <tr>\n",
       "      <th>2</th>\n",
       "      <td>4</td>\n",
       "      <td>1</td>\n",
       "      <td>1082414391</td>\n",
       "      <td>17</td>\n",
       "      <td>4</td>\n",
       "      <td>12527</td>\n",
       "    </tr>\n",
       "    <tr>\n",
       "      <th>3</th>\n",
       "      <td>5</td>\n",
       "      <td>6</td>\n",
       "      <td>1082439619</td>\n",
       "      <td>17</td>\n",
       "      <td>4</td>\n",
       "      <td>12527</td>\n",
       "    </tr>\n",
       "    <tr>\n",
       "      <th>4</th>\n",
       "      <td>7</td>\n",
       "      <td>6</td>\n",
       "      <td>1082439756</td>\n",
       "      <td>17</td>\n",
       "      <td>4</td>\n",
       "      <td>12527</td>\n",
       "    </tr>\n",
       "    <tr>\n",
       "      <th>5</th>\n",
       "      <td>8</td>\n",
       "      <td>9</td>\n",
       "      <td>1082440403</td>\n",
       "      <td>17</td>\n",
       "      <td>4</td>\n",
       "      <td>12527</td>\n",
       "    </tr>\n",
       "    <tr>\n",
       "      <th>6</th>\n",
       "      <td>8</td>\n",
       "      <td>10</td>\n",
       "      <td>1082440453</td>\n",
       "      <td>17</td>\n",
       "      <td>4</td>\n",
       "      <td>12527</td>\n",
       "    </tr>\n",
       "  </tbody>\n",
       "</table>\n",
       "</div>"
      ],
      "text/plain": [
       "   SRC  TGT      UNIXTS  WEEK  MONTH    DAY\n",
       "2    4    1  1082414391    17      4  12527\n",
       "3    5    6  1082439619    17      4  12527\n",
       "4    7    6  1082439756    17      4  12527\n",
       "5    8    9  1082440403    17      4  12527\n",
       "6    8   10  1082440453    17      4  12527"
      ]
     },
     "execution_count": 39,
     "metadata": {},
     "output_type": "execute_result"
    }
   ],
   "source": [
    "df.head(5)"
   ]
  },
  {
   "cell_type": "code",
   "execution_count": 40,
   "metadata": {},
   "outputs": [],
   "source": [
    "days = sorted(df['DAY'].unique())"
   ]
  },
  {
   "cell_type": "code",
   "execution_count": 41,
   "metadata": {},
   "outputs": [
    {
     "name": "stdout",
     "output_type": "stream",
     "text": [
      "0/190\n",
      "1/190\n",
      "2/190\n",
      "3/190\n",
      "4/190\n",
      "5/190\n",
      "6/190\n",
      "7/190\n",
      "8/190\n",
      "9/190\n",
      "10/190\n",
      "11/190\n",
      "12/190\n",
      "13/190\n",
      "14/190\n",
      "15/190\n",
      "16/190\n",
      "17/190\n",
      "18/190\n",
      "19/190\n",
      "20/190\n",
      "21/190\n",
      "22/190\n",
      "23/190\n",
      "24/190\n",
      "25/190\n",
      "26/190\n",
      "27/190\n",
      "28/190\n",
      "29/190\n",
      "30/190\n",
      "31/190\n",
      "32/190\n",
      "33/190\n",
      "34/190\n",
      "35/190\n",
      "36/190\n",
      "37/190\n",
      "38/190\n",
      "39/190\n",
      "40/190\n",
      "41/190\n",
      "42/190\n",
      "43/190\n",
      "44/190\n",
      "45/190\n",
      "46/190\n",
      "47/190\n",
      "48/190\n",
      "49/190\n",
      "50/190\n",
      "51/190\n",
      "52/190\n",
      "53/190\n",
      "54/190\n",
      "55/190\n",
      "56/190\n",
      "57/190\n",
      "58/190\n",
      "59/190\n",
      "60/190\n",
      "61/190\n",
      "62/190\n",
      "63/190\n",
      "64/190\n",
      "65/190\n",
      "66/190\n",
      "67/190\n",
      "68/190\n",
      "69/190\n",
      "70/190\n",
      "71/190\n",
      "72/190\n",
      "73/190\n",
      "74/190\n",
      "75/190\n",
      "76/190\n",
      "77/190\n",
      "78/190\n",
      "79/190\n",
      "80/190\n",
      "81/190\n",
      "82/190\n",
      "83/190\n",
      "84/190\n",
      "85/190\n",
      "86/190\n",
      "87/190\n",
      "88/190\n",
      "89/190\n",
      "90/190\n",
      "91/190\n",
      "92/190\n",
      "93/190\n",
      "94/190\n",
      "95/190\n",
      "96/190\n",
      "97/190\n",
      "98/190\n",
      "99/190\n",
      "100/190\n",
      "101/190\n",
      "102/190\n",
      "103/190\n",
      "104/190\n",
      "105/190\n",
      "106/190\n",
      "107/190\n",
      "108/190\n",
      "109/190\n",
      "110/190\n",
      "111/190\n",
      "112/190\n",
      "113/190\n",
      "114/190\n",
      "115/190\n",
      "116/190\n",
      "117/190\n",
      "118/190\n",
      "119/190\n",
      "120/190\n",
      "121/190\n",
      "122/190\n",
      "123/190\n",
      "124/190\n",
      "125/190\n",
      "126/190\n",
      "127/190\n",
      "128/190\n",
      "129/190\n",
      "130/190\n",
      "131/190\n",
      "132/190\n",
      "133/190\n",
      "134/190\n",
      "135/190\n",
      "136/190\n",
      "137/190\n",
      "138/190\n",
      "139/190\n",
      "140/190\n",
      "141/190\n",
      "142/190\n",
      "143/190\n",
      "144/190\n",
      "145/190\n",
      "146/190\n",
      "147/190\n",
      "148/190\n",
      "149/190\n",
      "150/190\n",
      "151/190\n",
      "152/190\n",
      "153/190\n",
      "154/190\n",
      "155/190\n",
      "156/190\n",
      "157/190\n",
      "158/190\n",
      "159/190\n",
      "160/190\n",
      "161/190\n",
      "162/190\n",
      "163/190\n",
      "164/190\n",
      "165/190\n",
      "166/190\n",
      "167/190\n",
      "168/190\n",
      "169/190\n",
      "170/190\n",
      "171/190\n",
      "172/190\n",
      "173/190\n",
      "174/190\n",
      "175/190\n",
      "176/190\n",
      "177/190\n",
      "178/190\n",
      "179/190\n",
      "180/190\n",
      "181/190\n",
      "182/190\n",
      "183/190\n",
      "184/190\n",
      "185/190\n",
      "186/190\n",
      "187/190\n",
      "188/190\n",
      "189/190\n"
     ]
    }
   ],
   "source": [
    "G_list = []\n",
    "G_dir_list = []\n",
    "day_groups = df.groupby(\"DAY\")\n",
    "\n",
    "\n",
    "for e,day in enumerate(days):\n",
    "    print(\"{}/{}\".format(e,len(days)))\n",
    "    \n",
    "    G = nx.Graph()\n",
    "    G_dir = nx.DiGraph()\n",
    "\n",
    "    G.add_nodes_from(range(0,1899))\n",
    "    G_dir.add_nodes_from(range(0,1899))\n",
    "    \n",
    "    try:\n",
    "        group = day_groups.get_group(day)\n",
    "        for u,v in zip(group[\"SRC\"].tolist(), group[\"TGT\"].tolist()):\n",
    "            if G.has_edge(u,v):\n",
    "                G[u][v][\"weight\"] += 1\n",
    "\n",
    "                G_dir[u][v][\"weight\"] += 1\n",
    "                G_dir[v][u][\"weight\"] += 1\n",
    "            else: \n",
    "                G.add_edge(u,v,weight=1)\n",
    "                G_dir.add_edge(u,v,weight=1)\n",
    "                G_dir.add_edge(v,u,weight=1)\n",
    "\n",
    "    except:\n",
    "        print(\"No messages in: \",day)\n",
    "    G_list.append(G)\n",
    "    G_dir_list.append(G_dir)"
   ]
  },
  {
   "cell_type": "code",
   "execution_count": 42,
   "metadata": {},
   "outputs": [
    {
     "data": {
      "text/plain": [
       "Text(0.5, 1.0, 'Num of Edges in 1-day Snapshots')"
      ]
     },
     "execution_count": 42,
     "metadata": {},
     "output_type": "execute_result"
    },
    {
     "data": {
      "image/png": "[encoded data removed]",
      "text/plain": [
       "<Figure size 432x288 with 1 Axes>"
      ]
     },
     "metadata": {
      "needs_background": "light"
     },
     "output_type": "display_data"
    }
   ],
   "source": [
    "g_len = [len(g.edges) for g in G_list]\n",
    "plt.plot(g_len)\n",
    "plt.title(\"Num of Edges in 1-day Snapshots\")"
   ]
  },
  {
   "cell_type": "code",
   "execution_count": 43,
   "metadata": {},
   "outputs": [],
   "source": [
    "with open(\"CollegeMsg/Graphs/msg_1_day_undir.pkl\", \"wb\") as file:\n",
    "    pickle.dump(G_list, file)\n",
    "    \n",
    "with open(\"CollegeMsg/Graphs/msg_1_day_dir.pkl\", \"wb\") as file:\n",
    "    pickle.dump(G_dir_list,file)"
   ]
  },
  {
   "cell_type": "markdown",
   "metadata": {},
   "source": [
    "## 1-day Aggregates"
   ]
  },
  {
   "cell_type": "code",
   "execution_count": 44,
   "metadata": {},
   "outputs": [
    {
     "name": "stdout",
     "output_type": "stream",
     "text": [
      "0/190\n",
      "1/190\n",
      "2/190\n",
      "3/190\n",
      "4/190\n",
      "5/190\n",
      "6/190\n",
      "7/190\n",
      "8/190\n",
      "9/190\n",
      "10/190\n",
      "11/190\n",
      "12/190\n",
      "13/190\n",
      "14/190\n",
      "15/190\n",
      "16/190\n",
      "17/190\n",
      "18/190\n",
      "19/190\n",
      "20/190\n",
      "21/190\n",
      "22/190\n",
      "23/190\n",
      "24/190\n",
      "25/190\n",
      "26/190\n",
      "27/190\n",
      "28/190\n",
      "29/190\n",
      "30/190\n",
      "31/190\n",
      "32/190\n",
      "33/190\n",
      "34/190\n",
      "35/190\n",
      "36/190\n",
      "37/190\n",
      "38/190\n",
      "39/190\n",
      "40/190\n",
      "41/190\n",
      "42/190\n",
      "43/190\n",
      "44/190\n",
      "45/190\n",
      "46/190\n",
      "47/190\n",
      "48/190\n",
      "49/190\n",
      "50/190\n",
      "51/190\n",
      "52/190\n",
      "53/190\n",
      "54/190\n",
      "55/190\n",
      "56/190\n",
      "57/190\n",
      "58/190\n",
      "59/190\n",
      "60/190\n",
      "61/190\n",
      "62/190\n",
      "63/190\n",
      "64/190\n",
      "65/190\n",
      "66/190\n",
      "67/190\n",
      "68/190\n",
      "69/190\n",
      "70/190\n",
      "71/190\n",
      "72/190\n",
      "73/190\n",
      "74/190\n",
      "75/190\n",
      "76/190\n",
      "77/190\n",
      "78/190\n",
      "79/190\n",
      "80/190\n",
      "81/190\n",
      "82/190\n",
      "83/190\n",
      "84/190\n",
      "85/190\n",
      "86/190\n",
      "87/190\n",
      "88/190\n",
      "89/190\n",
      "90/190\n",
      "91/190\n",
      "92/190\n",
      "93/190\n",
      "94/190\n",
      "95/190\n",
      "96/190\n",
      "97/190\n",
      "98/190\n",
      "99/190\n",
      "100/190\n",
      "101/190\n",
      "102/190\n",
      "103/190\n",
      "104/190\n",
      "105/190\n",
      "106/190\n",
      "107/190\n",
      "108/190\n",
      "109/190\n",
      "110/190\n",
      "111/190\n",
      "112/190\n",
      "113/190\n",
      "114/190\n",
      "115/190\n",
      "116/190\n",
      "117/190\n",
      "118/190\n",
      "119/190\n",
      "120/190\n",
      "121/190\n",
      "122/190\n",
      "123/190\n",
      "124/190\n",
      "125/190\n",
      "126/190\n",
      "127/190\n",
      "128/190\n",
      "129/190\n",
      "130/190\n",
      "131/190\n",
      "132/190\n",
      "133/190\n",
      "134/190\n",
      "135/190\n",
      "136/190\n",
      "137/190\n",
      "138/190\n",
      "139/190\n",
      "140/190\n",
      "141/190\n",
      "142/190\n",
      "143/190\n",
      "144/190\n",
      "145/190\n",
      "146/190\n",
      "147/190\n",
      "148/190\n",
      "149/190\n",
      "150/190\n",
      "151/190\n",
      "152/190\n",
      "153/190\n",
      "154/190\n",
      "155/190\n",
      "156/190\n",
      "157/190\n",
      "158/190\n",
      "159/190\n",
      "160/190\n",
      "161/190\n",
      "162/190\n",
      "163/190\n",
      "164/190\n",
      "165/190\n",
      "166/190\n",
      "167/190\n",
      "168/190\n",
      "169/190\n",
      "170/190\n",
      "171/190\n",
      "172/190\n",
      "173/190\n",
      "174/190\n",
      "175/190\n",
      "176/190\n",
      "177/190\n",
      "178/190\n",
      "179/190\n",
      "180/190\n",
      "181/190\n",
      "182/190\n",
      "183/190\n",
      "184/190\n",
      "185/190\n",
      "186/190\n",
      "187/190\n",
      "188/190\n",
      "189/190\n"
     ]
    }
   ],
   "source": [
    "G_list = []\n",
    "G_dir_list = []\n",
    "day_groups = df.groupby(\"DAY\")\n",
    "\n",
    "G = nx.Graph()\n",
    "G_dir = nx.DiGraph()\n",
    "\n",
    "G.add_nodes_from(range(0,1899))\n",
    "G_dir.add_nodes_from(range(0,1899))\n",
    "\n",
    "for e,day in enumerate(days):\n",
    "    print(\"{}/{}\".format(e,len(days)))\n",
    "    \n",
    "    try:\n",
    "        group = day_groups.get_group(day)\n",
    "        for u,v in zip(group[\"SRC\"].tolist(), group[\"TGT\"].tolist()):\n",
    "            if G.has_edge(u,v):\n",
    "                G[u][v][\"weight\"] += 1\n",
    "\n",
    "                G_dir[u][v][\"weight\"] += 1\n",
    "                G_dir[v][u][\"weight\"] += 1\n",
    "            else: \n",
    "                G.add_edge(u,v,weight=1)\n",
    "                G_dir.add_edge(u,v,weight=1)\n",
    "                G_dir.add_edge(v,u,weight=1)\n",
    "    except:\n",
    "        print(\"No messages in: \", day)\n",
    "    G_list.append(copy.deepcopy(G))\n",
    "    G_dir_list.append(copy.deepcopy(G_dir))"
   ]
  },
  {
   "cell_type": "code",
   "execution_count": 45,
   "metadata": {},
   "outputs": [],
   "source": [
    "with open(\"CollegeMsg/Graphs/msg_1_day_agg_undir.pkl\", \"wb\") as file:\n",
    "    pickle.dump(G_list,file)\n",
    "    \n",
    "with open(\"CollegeMsg/Graphs/msg_1_day_agg_dir.pkl\", \"wb\") as file:\n",
    "    pickle.dump(G_dir_list,file)"
   ]
  },
  {
   "cell_type": "markdown",
   "metadata": {},
   "source": [
    "## 1-week Snapshots"
   ]
  },
  {
   "cell_type": "code",
   "execution_count": 10,
   "metadata": {},
   "outputs": [],
   "source": [
    "df['WEEK'] = 0\n",
    "for index, row in df.iterrows():\n",
    "    row['WEEK'] = datetime.datetime.fromtimestamp(row['UNIXTS']).isocalendar()[1]"
   ]
  },
  {
   "cell_type": "code",
   "execution_count": 11,
   "metadata": {},
   "outputs": [
    {
     "data": {
      "text/html": [
       "<div>\n",
       "<style scoped>\n",
       "    .dataframe tbody tr th:only-of-type {\n",
       "        vertical-align: middle;\n",
       "    }\n",
       "\n",
       "    .dataframe tbody tr th {\n",
       "        vertical-align: top;\n",
       "    }\n",
       "\n",
       "    .dataframe thead th {\n",
       "        text-align: right;\n",
       "    }\n",
       "</style>\n",
       "<table border=\"1\" class=\"dataframe\">\n",
       "  <thead>\n",
       "    <tr style=\"text-align: right;\">\n",
       "      <th></th>\n",
       "      <th>SRC</th>\n",
       "      <th>TGT</th>\n",
       "      <th>UNIXTS</th>\n",
       "      <th>WEEK</th>\n",
       "    </tr>\n",
       "  </thead>\n",
       "  <tbody>\n",
       "    <tr>\n",
       "      <th>2</th>\n",
       "      <td>4</td>\n",
       "      <td>1</td>\n",
       "      <td>1082414391</td>\n",
       "      <td>17</td>\n",
       "    </tr>\n",
       "    <tr>\n",
       "      <th>3</th>\n",
       "      <td>5</td>\n",
       "      <td>6</td>\n",
       "      <td>1082439619</td>\n",
       "      <td>17</td>\n",
       "    </tr>\n",
       "    <tr>\n",
       "      <th>4</th>\n",
       "      <td>7</td>\n",
       "      <td>6</td>\n",
       "      <td>1082439756</td>\n",
       "      <td>17</td>\n",
       "    </tr>\n",
       "    <tr>\n",
       "      <th>5</th>\n",
       "      <td>8</td>\n",
       "      <td>9</td>\n",
       "      <td>1082440403</td>\n",
       "      <td>17</td>\n",
       "    </tr>\n",
       "    <tr>\n",
       "      <th>6</th>\n",
       "      <td>8</td>\n",
       "      <td>10</td>\n",
       "      <td>1082440453</td>\n",
       "      <td>17</td>\n",
       "    </tr>\n",
       "  </tbody>\n",
       "</table>\n",
       "</div>"
      ],
      "text/plain": [
       "   SRC  TGT      UNIXTS  WEEK\n",
       "2    4    1  1082414391    17\n",
       "3    5    6  1082439619    17\n",
       "4    7    6  1082439756    17\n",
       "5    8    9  1082440403    17\n",
       "6    8   10  1082440453    17"
      ]
     },
     "execution_count": 11,
     "metadata": {},
     "output_type": "execute_result"
    }
   ],
   "source": [
    "df.head(5)"
   ]
  },
  {
   "cell_type": "code",
   "execution_count": 12,
   "metadata": {},
   "outputs": [],
   "source": [
    "weeks = sorted(df['WEEK'].unique())"
   ]
  },
  {
   "cell_type": "code",
   "execution_count": 13,
   "metadata": {},
   "outputs": [
    {
     "data": {
      "text/plain": [
       "28"
      ]
     },
     "execution_count": 13,
     "metadata": {},
     "output_type": "execute_result"
    }
   ],
   "source": [
    "len(weeks)"
   ]
  },
  {
   "cell_type": "code",
   "execution_count": 14,
   "metadata": {},
   "outputs": [
    {
     "name": "stdout",
     "output_type": "stream",
     "text": [
      "0/28\n",
      "1/28\n",
      "2/28\n",
      "3/28\n",
      "4/28\n",
      "5/28\n",
      "6/28\n",
      "7/28\n",
      "8/28\n",
      "9/28\n",
      "10/28\n",
      "11/28\n",
      "12/28\n",
      "13/28\n",
      "14/28\n",
      "15/28\n",
      "16/28\n",
      "17/28\n",
      "18/28\n",
      "19/28\n",
      "20/28\n",
      "21/28\n",
      "22/28\n",
      "23/28\n",
      "24/28\n",
      "25/28\n",
      "26/28\n",
      "27/28\n"
     ]
    }
   ],
   "source": [
    "G_list = []\n",
    "G_dir_list = []\n",
    "week_groups = df.groupby(\"WEEK\")\n",
    "\n",
    "\n",
    "for e,week in enumerate(weeks):\n",
    "    print(\"{}/{}\".format(e,len(weeks)))\n",
    "    \n",
    "    G = nx.Graph()\n",
    "    G_dir = nx.DiGraph()\n",
    "\n",
    "    G.add_nodes_from(range(0,1899))\n",
    "    G_dir.add_nodes_from(range(0,1899))\n",
    "    \n",
    "    try:\n",
    "        group = week_groups.get_group(week)\n",
    "        for u,v in zip(group[\"SRC\"].tolist(), group[\"TGT\"].tolist()):\n",
    "            if G.has_edge(u,v):\n",
    "                G[u][v][\"weight\"] += 1\n",
    "\n",
    "                G_dir[u][v][\"weight\"] += 1\n",
    "                G_dir[v][u][\"weight\"] += 1\n",
    "            else: \n",
    "                G.add_edge(u,v,weight=1)\n",
    "                G_dir.add_edge(u,v,weight=1)\n",
    "                G_dir.add_edge(v,u,weight=1)\n",
    "\n",
    "    except:\n",
    "        print(\"No messages in: \",week)\n",
    "    G_list.append(G)\n",
    "    G_dir_list.append(G_dir)"
   ]
  },
  {
   "cell_type": "code",
   "execution_count": 15,
   "metadata": {},
   "outputs": [
    {
     "data": {
      "text/plain": [
       "Text(0.5, 1.0, 'Num of Edges in 1-week Snapshots')"
      ]
     },
     "execution_count": 15,
     "metadata": {},
     "output_type": "execute_result"
    },
    {
     "data": {
      "image/png": "[encoded data removed]",
      "text/plain": [
       "<Figure size 432x288 with 1 Axes>"
      ]
     },
     "metadata": {
      "needs_background": "light"
     },
     "output_type": "display_data"
    }
   ],
   "source": [
    "g_len = [len(g.edges) for g in G_list]\n",
    "plt.plot(g_len)\n",
    "plt.title(\"Num of Edges in 1-week Snapshots\")"
   ]
  },
  {
   "cell_type": "code",
   "execution_count": 16,
   "metadata": {},
   "outputs": [],
   "source": [
    "with open(\"CollegeMsg/Graphs/msg_1_week_undir.pkl\", \"wb\") as file:\n",
    "    pickle.dump(G_list, file)\n",
    "    \n",
    "with open(\"CollegeMsg/Graphs/msg_1_week_dir.pkl\", \"wb\") as file:\n",
    "    pickle.dump(G_dir_list,file)"
   ]
  },
  {
   "cell_type": "markdown",
   "metadata": {},
   "source": [
    "## 1-week Aggregates"
   ]
  },
  {
   "cell_type": "code",
   "execution_count": 17,
   "metadata": {},
   "outputs": [
    {
     "name": "stdout",
     "output_type": "stream",
     "text": [
      "0/28\n",
      "1/28\n",
      "2/28\n",
      "3/28\n",
      "4/28\n",
      "5/28\n",
      "6/28\n",
      "7/28\n",
      "8/28\n",
      "9/28\n",
      "10/28\n",
      "11/28\n",
      "12/28\n",
      "13/28\n",
      "14/28\n",
      "15/28\n",
      "16/28\n",
      "17/28\n",
      "18/28\n",
      "19/28\n",
      "20/28\n",
      "21/28\n",
      "22/28\n",
      "23/28\n",
      "24/28\n",
      "25/28\n",
      "26/28\n",
      "27/28\n"
     ]
    }
   ],
   "source": [
    "G_list = []\n",
    "G_dir_list = []\n",
    "week_groups = df.groupby(\"WEEK\")\n",
    "\n",
    "G = nx.Graph()\n",
    "G_dir = nx.DiGraph()\n",
    "\n",
    "G.add_nodes_from(range(0,1899))\n",
    "G_dir.add_nodes_from(range(0,1899))\n",
    "\n",
    "for e,week in enumerate(weeks):\n",
    "    print(\"{}/{}\".format(e,len(weeks)))\n",
    "    \n",
    "    try:\n",
    "        group = week_groups.get_group(week)\n",
    "        for u,v in zip(group[\"SRC\"].tolist(), group[\"TGT\"].tolist()):\n",
    "            if G.has_edge(u,v):\n",
    "                G[u][v][\"weight\"] += 1\n",
    "\n",
    "                G_dir[u][v][\"weight\"] += 1\n",
    "                G_dir[v][u][\"weight\"] += 1\n",
    "            else: \n",
    "                G.add_edge(u,v,weight=1)\n",
    "                G_dir.add_edge(u,v,weight=1)\n",
    "                G_dir.add_edge(v,u,weight=1)\n",
    "    except:\n",
    "        print(\"No messages in {}\".format(week))\n",
    "    G_list.append(copy.deepcopy(G))\n",
    "    G_dir_list.append(copy.deepcopy(G_dir))"
   ]
  },
  {
   "cell_type": "code",
   "execution_count": 18,
   "metadata": {},
   "outputs": [],
   "source": [
    "with open(\"CollegeMsg/Graphs/msg_1_week_agg_undir.pkl\", \"wb\") as file:\n",
    "    pickle.dump(G_list,file)\n",
    "    \n",
    "with open(\"CollegeMsg/Graphs/msg_1_week_agg_dir.pkl\", \"wb\") as file:\n",
    "    pickle.dump(G_dir_list,file)"
   ]
  },
  {
   "cell_type": "markdown",
   "metadata": {},
   "source": [
    "## 1-month Snapshots"
   ]
  },
  {
   "cell_type": "code",
   "execution_count": 19,
   "metadata": {},
   "outputs": [],
   "source": [
    "df['MONTH'] = 0\n",
    "for index, row in df.iterrows():\n",
    "    row['MONTH'] = datetime.datetime.fromtimestamp(row['UNIXTS']).month"
   ]
  },
  {
   "cell_type": "code",
   "execution_count": 20,
   "metadata": {},
   "outputs": [
    {
     "data": {
      "text/html": [
       "<div>\n",
       "<style scoped>\n",
       "    .dataframe tbody tr th:only-of-type {\n",
       "        vertical-align: middle;\n",
       "    }\n",
       "\n",
       "    .dataframe tbody tr th {\n",
       "        vertical-align: top;\n",
       "    }\n",
       "\n",
       "    .dataframe thead th {\n",
       "        text-align: right;\n",
       "    }\n",
       "</style>\n",
       "<table border=\"1\" class=\"dataframe\">\n",
       "  <thead>\n",
       "    <tr style=\"text-align: right;\">\n",
       "      <th></th>\n",
       "      <th>SRC</th>\n",
       "      <th>TGT</th>\n",
       "      <th>UNIXTS</th>\n",
       "      <th>WEEK</th>\n",
       "      <th>MONTH</th>\n",
       "    </tr>\n",
       "  </thead>\n",
       "  <tbody>\n",
       "    <tr>\n",
       "      <th>2</th>\n",
       "      <td>4</td>\n",
       "      <td>1</td>\n",
       "      <td>1082414391</td>\n",
       "      <td>17</td>\n",
       "      <td>4</td>\n",
       "    </tr>\n",
       "    <tr>\n",
       "      <th>3</th>\n",
       "      <td>5</td>\n",
       "      <td>6</td>\n",
       "      <td>1082439619</td>\n",
       "      <td>17</td>\n",
       "      <td>4</td>\n",
       "    </tr>\n",
       "    <tr>\n",
       "      <th>4</th>\n",
       "      <td>7</td>\n",
       "      <td>6</td>\n",
       "      <td>1082439756</td>\n",
       "      <td>17</td>\n",
       "      <td>4</td>\n",
       "    </tr>\n",
       "    <tr>\n",
       "      <th>5</th>\n",
       "      <td>8</td>\n",
       "      <td>9</td>\n",
       "      <td>1082440403</td>\n",
       "      <td>17</td>\n",
       "      <td>4</td>\n",
       "    </tr>\n",
       "    <tr>\n",
       "      <th>6</th>\n",
       "      <td>8</td>\n",
       "      <td>10</td>\n",
       "      <td>1082440453</td>\n",
       "      <td>17</td>\n",
       "      <td>4</td>\n",
       "    </tr>\n",
       "  </tbody>\n",
       "</table>\n",
       "</div>"
      ],
      "text/plain": [
       "   SRC  TGT      UNIXTS  WEEK  MONTH\n",
       "2    4    1  1082414391    17      4\n",
       "3    5    6  1082439619    17      4\n",
       "4    7    6  1082439756    17      4\n",
       "5    8    9  1082440403    17      4\n",
       "6    8   10  1082440453    17      4"
      ]
     },
     "execution_count": 20,
     "metadata": {},
     "output_type": "execute_result"
    }
   ],
   "source": [
    "df.head(5)"
   ]
  },
  {
   "cell_type": "code",
   "execution_count": 21,
   "metadata": {},
   "outputs": [],
   "source": [
    "months = sorted(df['MONTH'].unique())"
   ]
  },
  {
   "cell_type": "code",
   "execution_count": 22,
   "metadata": {},
   "outputs": [
    {
     "data": {
      "text/plain": [
       "7"
      ]
     },
     "execution_count": 22,
     "metadata": {},
     "output_type": "execute_result"
    }
   ],
   "source": [
    "len(months)"
   ]
  },
  {
   "cell_type": "code",
   "execution_count": 23,
   "metadata": {},
   "outputs": [
    {
     "name": "stdout",
     "output_type": "stream",
     "text": [
      "0/7\n",
      "1/7\n",
      "2/7\n",
      "3/7\n",
      "4/7\n",
      "5/7\n",
      "6/7\n"
     ]
    }
   ],
   "source": [
    "G_list = []\n",
    "G_dir_list = []\n",
    "month_groups = df.groupby(\"MONTH\")\n",
    "\n",
    "\n",
    "for e,month in enumerate(months):\n",
    "    print(\"{}/{}\".format(e,len(months)))\n",
    "    \n",
    "    G = nx.Graph()\n",
    "    G_dir = nx.DiGraph()\n",
    "\n",
    "    G.add_nodes_from(range(0,1899))\n",
    "    G_dir.add_nodes_from(range(0,1899))\n",
    "    \n",
    "    try:\n",
    "        group = month_groups.get_group(month)\n",
    "        for u,v in zip(group[\"SRC\"].tolist(), group[\"TGT\"].tolist()):\n",
    "            if G.has_edge(u,v):\n",
    "                G[u][v][\"weight\"] += 1\n",
    "\n",
    "                G_dir[u][v][\"weight\"] += 1\n",
    "                G_dir[v][u][\"weight\"] += 1\n",
    "            else: \n",
    "                G.add_edge(u,v,weight=1)\n",
    "                G_dir.add_edge(u,v,weight=1)\n",
    "                G_dir.add_edge(v,u,weight=1)\n",
    "\n",
    "    except:\n",
    "        print(\"No messages in: \", month)\n",
    "    G_list.append(G)\n",
    "    G_dir_list.append(G_dir)"
   ]
  },
  {
   "cell_type": "code",
   "execution_count": 24,
   "metadata": {},
   "outputs": [
    {
     "data": {
      "text/plain": [
       "1899"
      ]
     },
     "execution_count": 24,
     "metadata": {},
     "output_type": "execute_result"
    }
   ],
   "source": [
    "G_list[6].number_of_nodes()"
   ]
  },
  {
   "cell_type": "code",
   "execution_count": 25,
   "metadata": {},
   "outputs": [
    {
     "data": {
      "text/plain": [
       "Text(0.5, 1.0, 'Num of Edges in 1-month Snapshots')"
      ]
     },
     "execution_count": 25,
     "metadata": {},
     "output_type": "execute_result"
    },
    {
     "data": {
      "image/png": "[encoded data removed]",
      "text/plain": [
       "<Figure size 432x288 with 1 Axes>"
      ]
     },
     "metadata": {
      "needs_background": "light"
     },
     "output_type": "display_data"
    }
   ],
   "source": [
    "g_len = [len(g.edges) for g in G_list]\n",
    "plt.plot(g_len)\n",
    "plt.title(\"Num of Edges in 1-month Snapshots\")"
   ]
  },
  {
   "cell_type": "code",
   "execution_count": 26,
   "metadata": {},
   "outputs": [],
   "source": [
    "with open(\"CollegeMsg/Graphs/msg_1_month_undir.pkl\", \"wb\") as file:\n",
    "    pickle.dump(G_list, file)\n",
    "    \n",
    "with open(\"CollegeMsg/Graphs/msg_1_month_dir.pkl\", \"wb\") as file:\n",
    "    pickle.dump(G_dir_list,file)"
   ]
  },
  {
   "cell_type": "code",
   "execution_count": 27,
   "metadata": {},
   "outputs": [
    {
     "name": "stdout",
     "output_type": "stream",
     "text": [
      "0/7\n",
      "1/7\n",
      "2/7\n",
      "3/7\n",
      "4/7\n",
      "5/7\n",
      "6/7\n"
     ]
    }
   ],
   "source": [
    "G_list = []\n",
    "G_dir_list = []\n",
    "month_groups = df.groupby(\"MONTH\")\n",
    "\n",
    "G = nx.Graph()\n",
    "G_dir = nx.DiGraph()\n",
    "\n",
    "G.add_nodes_from(range(0,1899))\n",
    "G_dir.add_nodes_from(range(0,1899))\n",
    "\n",
    "for e,month in enumerate(months):\n",
    "    print(\"{}/{}\".format(e,len(months)))\n",
    "    \n",
    "    try:\n",
    "        group = month_groups.get_group(month)\n",
    "        for u,v in zip(group[\"SRC\"].tolist(), group[\"TGT\"].tolist()):\n",
    "            if G.has_edge(u,v):\n",
    "                G[u][v][\"weight\"] += 1\n",
    "\n",
    "                G_dir[u][v][\"weight\"] += 1\n",
    "                G_dir[v][u][\"weight\"] += 1\n",
    "            else: \n",
    "                G.add_edge(u,v,weight=1)\n",
    "                G_dir.add_edge(u,v,weight=1)\n",
    "                G_dir.add_edge(v,u,weight=1)\n",
    "    except:\n",
    "        print(\"No messages in :\", month)\n",
    "    G_list.append(copy.deepcopy(G))\n",
    "    G_dir_list.append(copy.deepcopy(G_dir))"
   ]
  },
  {
   "cell_type": "code",
   "execution_count": 28,
   "metadata": {},
   "outputs": [],
   "source": [
    "with open(\"CollegeMsg/Graphs/msg_1_month_agg_undir.pkl\", \"wb\") as file:\n",
    "    pickle.dump(G_list,file)\n",
    "    \n",
    "with open(\"CollegeMsg/Graphs/msg_1_month_agg_dir.pkl\", \"wb\") as file:\n",
    "    pickle.dump(G_dir_list,file)"
   ]
  },
  {
   "cell_type": "code",
   "execution_count": 29,
   "metadata": {},
   "outputs": [
    {
     "data": {
      "text/plain": [
       "59833"
      ]
     },
     "execution_count": 29,
     "metadata": {},
     "output_type": "execute_result"
    }
   ],
   "source": [
    "len(df)"
   ]
  },
  {
   "cell_type": "code",
   "execution_count": 30,
   "metadata": {},
   "outputs": [
    {
     "data": {
      "text/plain": [
       "2136.8928571428573"
      ]
     },
     "execution_count": 30,
     "metadata": {},
     "output_type": "execute_result"
    }
   ],
   "source": [
    "len(df) / 28"
   ]
  },
  {
   "cell_type": "markdown",
   "metadata": {},
   "source": [
    "## Equal-edges Snapshots"
   ]
  },
  {
   "cell_type": "code",
   "execution_count": 31,
   "metadata": {},
   "outputs": [],
   "source": [
    "G_list = []\n",
    "G_dir_list = []\n",
    "\n",
    "slice_num = 28;\n",
    "slice_edge_num = int(np.floor(len(df) / slice_num));\n",
    "\n",
    "for index in range(slice_num):\n",
    "    G = nx.Graph()\n",
    "    G_dir = nx.DiGraph()\n",
    "\n",
    "    G.add_nodes_from(range(0,1899))\n",
    "    G_dir.add_nodes_from(range(0,1899))\n",
    "    \n",
    "    group = df.iloc[(index * slice_edge_num):(index + 1) * slice_edge_num]\n",
    "    for u,v in zip(group[\"SRC\"].tolist(), group[\"TGT\"].tolist()):\n",
    "        if G.has_edge(u,v):\n",
    "            G[u][v][\"weight\"] += 1\n",
    "\n",
    "            G_dir[u][v][\"weight\"] += 1\n",
    "            G_dir[v][u][\"weight\"] += 1\n",
    "        else: \n",
    "            G.add_edge(u,v,weight=1)\n",
    "            G_dir.add_edge(u,v,weight=1)\n",
    "            G_dir.add_edge(v,u,weight=1)\n",
    "            \n",
    "    G_list.append(G)\n",
    "    G_dir_list.append(G_dir)"
   ]
  },
  {
   "cell_type": "code",
   "execution_count": 32,
   "metadata": {},
   "outputs": [
    {
     "data": {
      "text/plain": [
       "Text(0.5, 1.0, 'Num of Edges in equal-edge Snapshots')"
      ]
     },
     "execution_count": 32,
     "metadata": {},
     "output_type": "execute_result"
    },
    {
     "data": {
      "image/png": "[encoded data removed]",
      "text/plain": [
       "<Figure size 432x288 with 1 Axes>"
      ]
     },
     "metadata": {
      "needs_background": "light"
     },
     "output_type": "display_data"
    }
   ],
   "source": [
    "g_len = [len(g.edges) for g in G_list]\n",
    "plt.plot(g_len)\n",
    "plt.title(\"Num of Edges in equal-edge Snapshots\")"
   ]
  },
  {
   "cell_type": "code",
   "execution_count": 33,
   "metadata": {},
   "outputs": [
    {
     "data": {
      "text/html": [
       "<div>\n",
       "<style scoped>\n",
       "    .dataframe tbody tr th:only-of-type {\n",
       "        vertical-align: middle;\n",
       "    }\n",
       "\n",
       "    .dataframe tbody tr th {\n",
       "        vertical-align: top;\n",
       "    }\n",
       "\n",
       "    .dataframe thead th {\n",
       "        text-align: right;\n",
       "    }\n",
       "</style>\n",
       "<table border=\"1\" class=\"dataframe\">\n",
       "  <thead>\n",
       "    <tr style=\"text-align: right;\">\n",
       "      <th></th>\n",
       "      <th>SRC</th>\n",
       "      <th>TGT</th>\n",
       "      <th>UNIXTS</th>\n",
       "      <th>WEEK</th>\n",
       "      <th>MONTH</th>\n",
       "    </tr>\n",
       "  </thead>\n",
       "  <tbody>\n",
       "    <tr>\n",
       "      <th>59830</th>\n",
       "      <td>1898</td>\n",
       "      <td>1846</td>\n",
       "      <td>1098776648</td>\n",
       "      <td>44</td>\n",
       "      <td>10</td>\n",
       "    </tr>\n",
       "    <tr>\n",
       "      <th>59831</th>\n",
       "      <td>1898</td>\n",
       "      <td>1096</td>\n",
       "      <td>1098776836</td>\n",
       "      <td>44</td>\n",
       "      <td>10</td>\n",
       "    </tr>\n",
       "    <tr>\n",
       "      <th>59832</th>\n",
       "      <td>1898</td>\n",
       "      <td>276</td>\n",
       "      <td>1098777003</td>\n",
       "      <td>44</td>\n",
       "      <td>10</td>\n",
       "    </tr>\n",
       "    <tr>\n",
       "      <th>59833</th>\n",
       "      <td>1877</td>\n",
       "      <td>1623</td>\n",
       "      <td>1098777111</td>\n",
       "      <td>44</td>\n",
       "      <td>10</td>\n",
       "    </tr>\n",
       "    <tr>\n",
       "      <th>59834</th>\n",
       "      <td>1877</td>\n",
       "      <td>1623</td>\n",
       "      <td>1098777142</td>\n",
       "      <td>44</td>\n",
       "      <td>10</td>\n",
       "    </tr>\n",
       "  </tbody>\n",
       "</table>\n",
       "</div>"
      ],
      "text/plain": [
       "        SRC   TGT      UNIXTS  WEEK  MONTH\n",
       "59830  1898  1846  1098776648    44     10\n",
       "59831  1898  1096  1098776836    44     10\n",
       "59832  1898   276  1098777003    44     10\n",
       "59833  1877  1623  1098777111    44     10\n",
       "59834  1877  1623  1098777142    44     10"
      ]
     },
     "execution_count": 33,
     "metadata": {},
     "output_type": "execute_result"
    }
   ],
   "source": [
    "df.tail(5)"
   ]
  },
  {
   "cell_type": "code",
   "execution_count": 34,
   "metadata": {},
   "outputs": [],
   "source": [
    "with open(\"CollegeMsg/Graphs/msg_equal_edge_undir.pkl\", \"wb\") as file:\n",
    "    pickle.dump(G_list, file)\n",
    "    \n",
    "with open(\"CollegeMsg/Graphs/msg_equal_edge_dir.pkl\", \"wb\") as file:\n",
    "    pickle.dump(G_dir_list,file)"
   ]
  },
  {
   "cell_type": "markdown",
   "metadata": {},
   "source": [
    "## Equal-edges Aggregates"
   ]
  },
  {
   "cell_type": "code",
   "execution_count": 35,
   "metadata": {},
   "outputs": [],
   "source": [
    "G_list = []\n",
    "G_dir_list = []\n",
    "\n",
    "G = nx.Graph()\n",
    "G_dir = nx.DiGraph()\n",
    "\n",
    "G.add_nodes_from(range(0,1899))\n",
    "G_dir.add_nodes_from(range(0,1899))\n",
    "\n",
    "slice_num = 28;\n",
    "slice_edge_num = int(np.floor(len(df) / slice_num));\n",
    "\n",
    "for index in range(slice_num):\n",
    "    G.add_nodes_from(range(0,1899))\n",
    "    G_dir.add_nodes_from(range(0,1899))\n",
    "    \n",
    "    group = df.iloc[(index * slice_edge_num):(index + 1) * slice_edge_num]\n",
    "    for u,v in zip(group[\"SRC\"].tolist(), group[\"TGT\"].tolist()):\n",
    "        if G.has_edge(u,v):\n",
    "            G[u][v][\"weight\"] += 1\n",
    "\n",
    "            G_dir[u][v][\"weight\"] += 1\n",
    "            G_dir[v][u][\"weight\"] += 1\n",
    "        else: \n",
    "            G.add_edge(u,v,weight=1)\n",
    "            G_dir.add_edge(u,v,weight=1)\n",
    "            G_dir.add_edge(v,u,weight=1)\n",
    "            \n",
    "    G_list.append(copy.deepcopy(G))\n",
    "    G_dir_list.append(copy.deepcopy(G_dir))"
   ]
  },
  {
   "cell_type": "code",
   "execution_count": 36,
   "metadata": {},
   "outputs": [
    {
     "data": {
      "text/plain": [
       "Text(0.5, 1.0, 'Num of Edges in equal-edge Aggregates')"
      ]
     },
     "execution_count": 36,
     "metadata": {},
     "output_type": "execute_result"
    },
    {
     "data": {
      "image/png": "[encoded data removed]",
      "text/plain": [
       "<Figure size 432x288 with 1 Axes>"
      ]
     },
     "metadata": {
      "needs_background": "light"
     },
     "output_type": "display_data"
    }
   ],
   "source": [
    "g_len = [len(g.edges) for g in G_list]\n",
    "plt.plot(g_len)\n",
    "plt.title(\"Num of Edges in equal-edge Aggregates\")"
   ]
  },
  {
   "cell_type": "code",
   "execution_count": 37,
   "metadata": {},
   "outputs": [],
   "source": [
    "with open(\"CollegeMsg/Graphs/msg_equal_edge_agg_undir.pkl\", \"wb\") as file:\n",
    "    pickle.dump(G_list, file)\n",
    "    \n",
    "with open(\"CollegeMsg/Graphs/msg_equal_edge_agg_dir.pkl\", \"wb\") as file:\n",
    "    pickle.dump(G_dir_list,file)"
   ]
  },
  {
   "cell_type": "code",
   "execution_count": null,
   "metadata": {},
   "outputs": [],
   "source": []
  }
 ],
 "metadata": {
  "kernelspec": {
   "display_name": "Python 3",
   "language": "python",
   "name": "python3"
  },
  "language_info": {
   "codemirror_mode": {
    "name": "ipython",
    "version": 3
   },
   "file_extension": ".py",
   "mimetype": "text/x-python",
   "name": "python",
   "nbconvert_exporter": "python",
   "pygments_lexer": "ipython3",
   "version": "3.7.1"
  }
 },
 "nbformat": 4,
 "nbformat_minor": 2
}
